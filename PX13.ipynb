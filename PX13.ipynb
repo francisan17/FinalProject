{
 "cells": [
  {
   "cell_type": "code",
   "execution_count": 122,
   "id": "dffefcee-795f-4d7d-b0c7-fe4b323866cd",
   "metadata": {},
   "outputs": [],
   "source": [
    "import pymolpro\n",
    "import pandas as pd\n"
   ]
  },
  {
   "cell_type": "code",
   "execution_count": 123,
   "id": "cb388c6c-7341-48d6-9049-737d3323cdcb",
   "metadata": {},
   "outputs": [],
   "source": [
    "backend = 'local' \n",
    "project_name = 'PX13_methodtest'\n",
    "parallel = 4"
   ]
  },
  {
   "cell_type": "code",
   "execution_count": 124,
   "id": "b3791701-5ce6-4e58-a0e8-ec783255f5f6",
   "metadata": {},
   "outputs": [],
   "source": [
    "methods = {\"HF\": \"hf\",\n",
    "\"MP2\": \"mp2\",\n",
    "\"MP3\": \"mp3\",\n",
    "\"MP4\": \"mp4\",\n",
    "\"PAPT2\":\"PAPT;MP2\",\n",
    "\"PAPT3\":\"PAPT;MP3\",\n",
    "\"PAPT4\":\"PAPT;MP4\",\n",
    "\"CCSD\":\"CCSD\",\n",
    "\"CCSD(T)\":\"CCSD(T)\" }\n",
    "bases = ['cc-pVDZ','cc-pVTZ']"
   ]
  },
  {
   "cell_type": "code",
   "execution_count": 125,
   "id": "462f99d2-8f7e-4ed4-b841-614172d89146",
   "metadata": {},
   "outputs": [],
   "source": [
    "db = pymolpro.database.load(\"GMTKN55_PX13\")"
   ]
  },
  {
   "cell_type": "code",
   "execution_count": 126,
   "id": "345873c9-b330-4f68-83bb-5cb274e0f905",
   "metadata": {},
   "outputs": [
    {
     "name": "stdout",
     "output_type": "stream",
     "text": [
      "GMTKN55 PX13 (closed shell only) (maximum number of electrons 40):\n",
      "\n",
      "Molecules:\n",
      "nh3_2_ts: {'geometry': '8\\n 2NH3TS (Full point group C2v)\\n H 0.673346 0.000000 -0.244115\\n H -0.673346 0.000000 -0.244115\\n H 0.000000 0.809962 1.821379\\n H 0.000000 -0.839127 -1.730643\\n N 0.000000 0.000000 -1.165033\\n N 0.000000 0.000000 1.208856\\n H 0.000000 -0.809962 1.821379\\n H 0.000000 0.839127 -1.730643\\n', 'description': 'nh3_2_ts'}\n",
      "nh3_3_ts: {'geometry': '12\\n 3NH3TS (Full point group Cs)\\n H 0.000000 1.039215 0.000000\\n H 0.975536 -0.391735 0.000000\\n H -0.718624 -0.750749 0.000000\\n H 1.615871 1.288560 0.821991\\n H 0.276209 -2.048201 -0.821994\\n H -1.974443 0.792779 -0.810562\\n N 1.170289 0.899018 0.000000\\n N 0.223683 -1.458692 0.000000\\n N -1.407141 0.564959 0.000000\\n H 0.276209 -2.048201 0.821994\\n H -1.974443 0.792779 0.810562\\n H 1.615871 1.288560 -0.821991\\n', 'description': 'nh3_3_ts'}\n",
      "h2o_2_ts: {'geometry': '6\\n 2H2OTS (Full point group C2h)\\n O 0.000000 1.098108 0.000000\\n H 0.000000 0.000000 0.596495\\n H 0.000000 0.000000 -0.596495\\n O 0.000000 -1.098108 0.000000\\n H 0.867311 1.517487 0.000000\\n H -0.867311 -1.517487 0.000000\\n', 'description': 'h2o_2_ts'}\n",
      "h2o_3_ts: {'geometry': '9\\n 3H2OTS (Full point group Cs)\\n O -0.027616 -0.689983 1.190325\\n H -0.037707 0.477614 -0.829995\\n H -0.037707 0.477614 0.829995\\n O -0.027616 1.374206 0.000000\\n H 0.055118 -0.961226 0.000000\\n O -0.027616 -0.689983 -1.190325\\n H -0.845615 1.879517 0.000000\\n H 0.764349 -0.913715 1.686779\\n H 0.764349 -0.913715 -1.686779\\n', 'description': 'h2o_3_ts'}\n",
      "hf_3: {'geometry': '6\\n 3HF (cyc) (Full point group C3h)\\n H 0.000000 1.164150 0.000000\\n H 1.008183 -0.582075 0.000000\\n H -1.008183 -0.582075 0.000000\\n F -0.527520 -1.395778 0.000000\\n F -0.945019 1.154735 0.000000\\n F 1.472540 0.241043 0.000000\\n', 'description': 'hf_3'}\n",
      "hf_4: {'geometry': '8\\n 4HF (cyc) (Full point group C4h)\\n H -0.302062 1.405585 0.000000\\n H 1.405585 0.302062 0.000000\\n H 0.302062 -1.405585 0.000000\\n H -1.405585 -0.302062 0.000000\\n F 1.249541 1.249541 0.000000\\n F -1.249541 1.249541 0.000000\\n F 1.249541 -1.249541 0.000000\\n F -1.249541 -1.249541 0.000000\\n', 'description': 'hf_4'}\n",
      "hf_2: {'geometry': '4\\n 2HF (cyc) (Full point group Cs)\\n H 0.147515 0.503025 0.000000\\n F 0.037922 -1.303125 0.000000\\n F 0.037922 1.428195 0.000000\\n H -0.830110 -1.628660 0.000000\\n', 'description': 'hf_2'}\n",
      "hf_4_ts: {'geometry': '8\\n 4HF-TS (Full point group D4h)\\n H 0.000000 1.264867 0.000000\\n H 1.264867 0.000000 0.000000\\n H 0.000000 -1.264867 0.000000\\n H -1.264867 0.000000 0.000000\\n F 1.142134 1.142134 0.000000\\n F 1.142134 -1.142134 0.000000\\n F -1.142134 -1.142134 0.000000\\n F -1.142134 1.142134 0.000000\\n', 'description': 'hf_4_ts'}\n",
      "hf_3_ts: {'geometry': '6\\n 3HF-TS (Full point group D3h)\\n H 0.000000 0.928503 0.000000\\n H 0.804107 -0.464251 0.000000\\n H -0.804107 -0.464251 0.000000\\n F 0.000000 -1.304172 0.000000\\n F -1.129446 0.652086 0.000000\\n F 1.129446 0.652086 0.000000\\n', 'description': 'hf_3_ts'}\n",
      "h2o_4_ts: {'geometry': '12\\n 4H2OTS (Full point group D2d)\\n O -1.703649 0.000000 0.039217\\n H 0.935877 0.935877 0.000000\\n H -0.935877 0.935877 0.000000\\n O 0.000000 1.703649 -0.039217\\n H -0.935877 -0.935877 0.000000\\n O 0.000000 -1.703649 -0.039217\\n H 0.935877 -0.935877 0.000000\\n O 1.703649 0.000000 0.039217\\n H 2.295559 0.000000 -0.717948\\n H 0.000000 2.295559 0.717948\\n H -2.295559 0.000000 -0.717948\\n H 0.000000 -2.295559 0.717948\\n', 'description': 'h2o_4_ts'}\n",
      "hf_2_ts: {'geometry': '4\\n 2HF-TS (Full point group D2h)\\n H 0.000000 0.588109 0.000000\\n H 0.000000 -0.588109 0.000000\\n F 0.000000 0.000000 1.037653\\n F 0.000000 0.000000 -1.037653\\n', 'description': 'hf_2_ts'}\n",
      "h2o_2: {'geometry': '6\\n 2H2O (Full point group Cs)\\n O 0.000756 1.523252 0.000000\\n H -0.086365 0.557493 0.000000\\n H -0.898788 1.860643 0.000000\\n O 0.000756 -1.396126 0.000000\\n H 0.486527 -1.717573 0.766199\\n H 0.486527 -1.717573 -0.766199\\n', 'description': 'h2o_2'}\n",
      "nh3_4_ts: {'geometry': '16\\n 4NH3TS (Full point group Cs)\\n H 1.424320 0.315746 0.000000\\n H 0.446026 -1.447322 0.000000\\n H -1.508748 0.121957 0.000000\\n H 0.000000 1.458660 0.000000\\n H 1.507411 1.878060 0.821411\\n H 1.964125 -1.661433 -0.812887\\n H -1.557872 -1.938180 0.802236\\n H -2.045777 1.558489 -0.812895\\n N 1.134596 1.413387 0.000000\\n N -1.163704 -1.448618 0.000000\\n N 1.542580 -1.223744 0.000000\\n N -1.527382 1.241416 0.000000\\n H -2.045777 1.558489 0.812895\\n H -1.557872 -1.938180 -0.802236\\n H 1.964125 -1.661433 0.812887\\n H 1.507411 1.878060 -0.821411\\n', 'description': 'nh3_4_ts'}\n",
      "h2o_4: {'geometry': '12\\n 4H2O (cyc) (Full point group S4)\\n O -1.370265 -1.370265 0.001600\\n H -1.508025 -0.396133 0.009614\\n H -0.396133 1.508025 -0.009614\\n H 1.876410 1.707325 -0.742395\\n H -1.876410 -1.707325 -0.742395\\n H -1.707325 1.876410 0.742395\\n H 1.508025 0.396133 0.009614\\n O 1.370265 1.370265 0.001600\\n O -1.370265 1.370265 -0.001600\\n H 0.396133 -1.508025 -0.009614\\n O 1.370265 -1.370265 -0.001600\\n H 1.707325 -1.876410 0.742395\\n', 'description': 'h2o_4'}\n",
      "h2o_3: {'geometry': '9\\n 3H2O (cyc) (Full point group C1)\\n O 1.452268 -0.709273 -0.085209\\n H 0.563883 -1.109426 -0.043402\\n O -1.348866 -0.891503 -0.094039\\n H -1.220857 0.073636 -0.023719\\n O -0.102608 1.607130 0.110508\\n H -0.006681 2.240437 -0.606048\\n H 1.979703 -1.145727 0.588961\\n H -1.996402 -1.127971 0.575189\\n H 0.674002 1.018221 0.058931\\n', 'description': 'h2o_3'}\n",
      "nh3_3: {'geometry': '12\\n 3NH3 (cyc) (Full point group C1)\\n H -1.368356 -0.180977 -0.013169\\n H 0.842949 -1.094909 0.003968\\n H 0.528298 1.276672 0.008017\\n H -1.941415 -1.484031 -0.832875\\n H 2.256561 -0.944858 0.826735\\n H -0.321706 2.423720 0.820266\\n N -1.414869 -1.200455 -0.014850\\n N 1.748040 -0.623591 0.011230\\n N -0.333168 1.823765 0.003717\\n H 2.265911 -0.938111 -0.801018\\n H -0.309348 2.430495 -0.807547\\n H -1.952921 -1.486037 0.794944\\n', 'description': 'nh3_3'}\n",
      "nh3_4: {'geometry': '16\\n 4NH3 (cyc) (Full point group S4)\\n H -1.710690 -0.579609 0.003110\\n H -0.579609 1.710690 -0.003110\\n H 2.081757 1.949474 -0.823544\\n H -2.081757 -1.949474 -0.823544\\n H -1.949474 2.081757 0.823544\\n H 1.710690 0.579609 0.003110\\n H 0.579609 -1.710690 -0.003110\\n H 1.949474 -2.081757 0.823544\\n N -1.596691 1.596691 0.006345\\n N -1.596691 -1.596691 -0.006345\\n N 1.596691 1.596691 -0.006345\\n N 1.596691 -1.596691 0.006345\\n H 2.084236 1.965445 0.802282\\n H -1.965445 2.084236 -0.802282\\n H -2.084236 -1.965445 0.802282\\n H 1.965445 -2.084236 -0.802282\\n', 'description': 'nh3_4'}\n",
      "nh3_2: {'geometry': '8\\n 2NH3 (Full point group Cs)\\n H -0.155611 0.718127 0.000000\\n H -0.421026 2.115582 0.813988\\n H -0.255988 -2.122455 0.815316\\n H 1.046178 -1.572039 0.000000\\n N 0.033104 1.718343 0.000000\\n N 0.033104 -1.594392 0.000000\\n H -0.255988 -2.122455 -0.815316\\n H -0.421026 2.115582 -0.813988\\n', 'description': 'nh3_2'}\n",
      "\n",
      "Reactions:\n",
      "1: nh3_2 -> nh3_2_ts, energy = 0.094500565392\n",
      "2: nh3_3 -> nh3_3_ts, energy = 0.074739907536\n",
      "3: nh3_4 -> nh3_4_ts, energy = 0.077130309696\n",
      "4: h2o_2 -> h2o_2_ts, energy = 0.07744902998400001\n",
      "5: h2o_3 -> h2o_3_ts, energy = 0.047489322912000004\n",
      "6: h2o_4 -> h2o_4_ts, energy = 0.042389798304000005\n",
      "9: hf_2 -> hf_2_ts, energy = 0.067409340912\n",
      "10: hf_3 -> hf_3_ts, energy = 0.032987549808\n",
      "11: hf_4 -> hf_4_ts, energy = 0.023425941167999998\n",
      "\n",
      "\n"
     ]
    }
   ],
   "source": [
    "small=db.subset(open_shell=False,max_electrons=40)\n",
    "print(small)"
   ]
  },
  {
   "cell_type": "code",
   "execution_count": 127,
   "id": "acc5bf08-f1dd-4722-98f9-83f511baf4d6",
   "metadata": {},
   "outputs": [
    {
     "name": "stdout",
     "output_type": "stream",
     "text": [
      "{'HF': {'cc-pVDZ': <pymolpro.database.Database object at 0x7fb528c43d60>, 'cc-pVTZ': <pymolpro.database.Database object at 0x7fb4f19cd600>}, 'MP2': {'cc-pVDZ': <pymolpro.database.Database object at 0x7fb4f19cdbd0>, 'cc-pVTZ': <pymolpro.database.Database object at 0x7fb492259810>}, 'MP3': {'cc-pVDZ': <pymolpro.database.Database object at 0x7fb5289f5b40>, 'cc-pVTZ': <pymolpro.database.Database object at 0x7fb490d58f40>}, 'MP4': {'cc-pVDZ': <pymolpro.database.Database object at 0x7fb490d583d0>, 'cc-pVTZ': <pymolpro.database.Database object at 0x7fb513163310>}, 'PAPT2': {'cc-pVDZ': <pymolpro.database.Database object at 0x7fb4f19ea200>, 'cc-pVTZ': <pymolpro.database.Database object at 0x7fb4fa752590>}, 'PAPT3': {'cc-pVDZ': <pymolpro.database.Database object at 0x7fb492078340>, 'cc-pVTZ': <pymolpro.database.Database object at 0x7fb513f1b580>}, 'PAPT4': {'cc-pVDZ': <pymolpro.database.Database object at 0x7fb513f31f60>, 'cc-pVTZ': <pymolpro.database.Database object at 0x7fb52aaeada0>}, 'CCSD': {'cc-pVDZ': <pymolpro.database.Database object at 0x7fb4fa75df30>, 'cc-pVTZ': <pymolpro.database.Database object at 0x7fb513a15840>}, 'CCSD(T)': {'cc-pVDZ': <pymolpro.database.Database object at 0x7fb513a14640>, 'cc-pVTZ': <pymolpro.database.Database object at 0x7fb513a16110>}}\n"
     ]
    }
   ],
   "source": [
    "results = {}\n",
    "for method in methods:\n",
    "    results[method] = {}\n",
    "    for basis in bases:\n",
    "        results[method][basis] = pymolpro.database.run(small,methods[method], basis, location=project_name,\n",
    "                                                       backend=backend,\n",
    "                                                       preamble=\"core,small\", parallel=parallel)\n",
    "        if results[method][basis].failed: print(method, basis, 'failed', results[method][basis].project_directory)\n",
    "        \n",
    "print(results)    "
   ]
  },
  {
   "cell_type": "code",
   "execution_count": 128,
   "id": "d700a77b-ff60-4197-89af-ee82f28acf80",
   "metadata": {},
   "outputs": [
    {
     "data": {
      "text/html": [
       "<div>\n",
       "<style scoped>\n",
       "    .dataframe tbody tr th:only-of-type {\n",
       "        vertical-align: middle;\n",
       "    }\n",
       "\n",
       "    .dataframe tbody tr th {\n",
       "        vertical-align: top;\n",
       "    }\n",
       "\n",
       "    .dataframe thead th {\n",
       "        text-align: right;\n",
       "    }\n",
       "</style>\n",
       "<table border=\"1\" class=\"dataframe\">\n",
       "  <thead>\n",
       "    <tr style=\"text-align: right;\">\n",
       "      <th></th>\n",
       "      <th>HF/cc-pVTZ</th>\n",
       "      <th>MP2/cc-pVTZ</th>\n",
       "      <th>MP3/cc-pVTZ</th>\n",
       "      <th>MP4/cc-pVTZ</th>\n",
       "      <th>PAPT;MP2/cc-pVTZ</th>\n",
       "      <th>PAPT;MP3/cc-pVTZ</th>\n",
       "      <th>PAPT;MP4/cc-pVTZ</th>\n",
       "      <th>CCSD/cc-pVTZ</th>\n",
       "      <th>CCSD(T)/cc-pVTZ</th>\n",
       "    </tr>\n",
       "  </thead>\n",
       "  <tbody>\n",
       "    <tr>\n",
       "      <th>MAD</th>\n",
       "      <td>0.026944</td>\n",
       "      <td>0.004981</td>\n",
       "      <td>0.003924</td>\n",
       "      <td>0.002965</td>\n",
       "      <td>0.003774</td>\n",
       "      <td>0.003831</td>\n",
       "      <td>0.001558</td>\n",
       "      <td>0.003917</td>\n",
       "      <td>0.001624</td>\n",
       "    </tr>\n",
       "    <tr>\n",
       "      <th>MAXD</th>\n",
       "      <td>0.033282</td>\n",
       "      <td>0.006754</td>\n",
       "      <td>0.006213</td>\n",
       "      <td>0.004420</td>\n",
       "      <td>0.006465</td>\n",
       "      <td>0.006480</td>\n",
       "      <td>0.002917</td>\n",
       "      <td>0.006399</td>\n",
       "      <td>0.002967</td>\n",
       "    </tr>\n",
       "    <tr>\n",
       "      <th>RMSD</th>\n",
       "      <td>0.027319</td>\n",
       "      <td>0.005248</td>\n",
       "      <td>0.004251</td>\n",
       "      <td>0.003237</td>\n",
       "      <td>0.004203</td>\n",
       "      <td>0.004250</td>\n",
       "      <td>0.001833</td>\n",
       "      <td>0.004353</td>\n",
       "      <td>0.001878</td>\n",
       "    </tr>\n",
       "    <tr>\n",
       "      <th>MSD</th>\n",
       "      <td>0.026944</td>\n",
       "      <td>-0.004981</td>\n",
       "      <td>0.003924</td>\n",
       "      <td>-0.002689</td>\n",
       "      <td>0.003774</td>\n",
       "      <td>0.003831</td>\n",
       "      <td>-0.000923</td>\n",
       "      <td>0.003917</td>\n",
       "      <td>-0.000997</td>\n",
       "    </tr>\n",
       "    <tr>\n",
       "      <th>STDEVD</th>\n",
       "      <td>0.004785</td>\n",
       "      <td>0.001753</td>\n",
       "      <td>0.001733</td>\n",
       "      <td>0.001912</td>\n",
       "      <td>0.001963</td>\n",
       "      <td>0.001951</td>\n",
       "      <td>0.001679</td>\n",
       "      <td>0.002014</td>\n",
       "      <td>0.001687</td>\n",
       "    </tr>\n",
       "  </tbody>\n",
       "</table>\n",
       "</div>"
      ],
      "text/plain": [
       "        HF/cc-pVTZ  MP2/cc-pVTZ  MP3/cc-pVTZ  MP4/cc-pVTZ  PAPT;MP2/cc-pVTZ   \n",
       "MAD       0.026944     0.004981     0.003924     0.002965          0.003774  \\\n",
       "MAXD      0.033282     0.006754     0.006213     0.004420          0.006465   \n",
       "RMSD      0.027319     0.005248     0.004251     0.003237          0.004203   \n",
       "MSD       0.026944    -0.004981     0.003924    -0.002689          0.003774   \n",
       "STDEVD    0.004785     0.001753     0.001733     0.001912          0.001963   \n",
       "\n",
       "        PAPT;MP3/cc-pVTZ  PAPT;MP4/cc-pVTZ  CCSD/cc-pVTZ  CCSD(T)/cc-pVTZ  \n",
       "MAD             0.003831          0.001558      0.003917         0.001624  \n",
       "MAXD            0.006480          0.002917      0.006399         0.002967  \n",
       "RMSD            0.004250          0.001833      0.004353         0.001878  \n",
       "MSD             0.003831         -0.000923      0.003917        -0.000997  \n",
       "STDEVD          0.001951          0.001679      0.002014         0.001687  "
      ]
     },
     "execution_count": 128,
     "metadata": {},
     "output_type": "execute_result"
    }
   ],
   "source": [
    "analyse=pymolpro.database.analyse([result['cc-pVTZ'] for result in results.values()],small)\n",
    "analyse['reaction statistics']"
   ]
  },
  {
   "cell_type": "code",
   "execution_count": 130,
   "id": "67b47902-3e82-4c7f-ad36-8f77930f325f",
   "metadata": {},
   "outputs": [
    {
     "data": {
      "image/png": "[encoded data removed]",
      "text/plain": [
       "<Figure size 1800x600 with 2 Axes>"
      ]
     },
     "metadata": {},
     "output_type": "display_data"
    }
   ],
   "source": [
    "import matplotlib.pyplot as plt\n",
    "\n",
    "methods_pruned = [method for method in methods if (method != 'HF') and (method != 'CCSD(T)')]\n",
    "bases_pruned = ['cc-pVTZ', 'cc-pVDZ']\n",
    "fig, panes = plt.subplots(nrows=1, ncols=len(bases_pruned), sharey=True, figsize=(18, 6))\n",
    "\n",
    "for pane in range(len(bases_pruned)):\n",
    "    data = []\n",
    "    for method in methods_pruned:\n",
    "        data.append(\n",
    "            pymolpro.database.analyse(results[method][bases_pruned[pane]],\n",
    "                                      results['CCSD(T)']['cc-pVTZ'],'kJ/mol')['reaction energy deviations'].to_numpy()[:, 0]\n",
    "        )\n",
    "    panes[pane].violinplot(data, showmeans=True, showextrema=True, vert=True, bw_method='silverman')\n",
    "    panes[pane].set_xticks(range(1, len(methods_pruned) + 1), labels=methods_pruned, rotation=-90)\n",
    "    panes[pane].set_title(bases_pruned[pane])\n",
    "panes[0].set_ylabel('Error / kJ/mol')\n",
    "plt.savefig(project_name + \".violin.pdf\")\n"
   ]
  },
  {
   "cell_type": "code",
   "execution_count": 131,
   "id": "26129e1b-9379-4386-b2ec-43c709ca5e47",
   "metadata": {},
   "outputs": [
    {
     "data": {
      "text/plain": [
       "[<pymolpro.database.Database at 0x7fb4fa6906d0>]"
      ]
     },
     "execution_count": 131,
     "metadata": {},
     "output_type": "execute_result"
    }
   ],
   "source": [
    "extrapolate=pymolpro.database.basis_extrapolate(results[method].values(), results[\"HF\"].values())\n",
    "extrapolate"
   ]
  }
 ],
 "metadata": {
  "kernelspec": {
   "display_name": "Python [conda env:persistent] *",
   "language": "python",
   "name": "conda-env-persistent-py"
  },
  "language_info": {
   "codemirror_mode": {
    "name": "ipython",
    "version": 3
   },
   "file_extension": ".py",
   "mimetype": "text/x-python",
   "name": "python",
   "nbconvert_exporter": "python",
   "pygments_lexer": "ipython3",
   "version": "3.10.10"
  }
 },
 "nbformat": 4,
 "nbformat_minor": 5
}
