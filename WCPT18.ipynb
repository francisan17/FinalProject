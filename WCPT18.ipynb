{
 "cells": [
  {
   "cell_type": "code",
   "execution_count": null,
   "id": "70b4ee67-7922-4cc8-9928-65d1a5df85fa",
   "metadata": {},
   "outputs": [],
   "source": [
    "!mamba upgrade -y pymolpro"
   ]
  },
  {
   "cell_type": "code",
   "execution_count": 66,
   "id": "9ff0dc04-3d3d-4f39-9ca6-61dcea10363a",
   "metadata": {},
   "outputs": [],
   "source": [
    "import pymolpro\n",
    "import pandas as pd"
   ]
  },
  {
   "cell_type": "code",
   "execution_count": 67,
   "id": "8c664f3b-8cbe-4b53-b026-c4fd388d8f64",
   "metadata": {},
   "outputs": [],
   "source": [
    "backend = 'local' \n",
    "project_name = 'WCPT18_methodtest'\n",
    "parallel = 8"
   ]
  },
  {
   "cell_type": "code",
   "execution_count": 68,
   "id": "2a0711a2-9721-42b4-8052-61b674ee754a",
   "metadata": {},
   "outputs": [],
   "source": [
    "methods = {\"HF\": \"hf\",\n",
    "\"MP2\": \"mp2\",\n",
    "\"MP3\": \"mp3\",\n",
    "\"MP4\": \"mp4\",\n",
    "\"PAPT2\":\"PAPT;MP2\",\n",
    "\"PAPT3\":\"PAPT;MP3\",\n",
    "\"PAPT4\":\"PAPT;MP4\",\n",
    "\"CCSD\":\"CCSD\",\n",
    "\"CCSD(T)\":\"CCSD(T)\" }\n",
    "bases = ['cc-pVDZ','cc-pVTZ']"
   ]
  },
  {
   "cell_type": "code",
   "execution_count": 69,
   "id": "5db52bea-7126-4bea-83ff-65ac05451316",
   "metadata": {},
   "outputs": [],
   "source": [
    "db = pymolpro.database.load(\"GMTKN55_WCPT18\")"
   ]
  },
  {
   "cell_type": "code",
   "execution_count": 70,
   "id": "a58cdb14-9de8-4ef8-bb23-b6c820cfdbc8",
   "metadata": {},
   "outputs": [
    {
     "name": "stdout",
     "output_type": "stream",
     "text": [
      "GMTKN55 WCPT18 (closed shell only) (maximum number of electrons 30):\n",
      "\n",
      "Molecules:\n",
      "ts5: {'geometry': '8\\n \\n C -0.077016 0.551986 0.027408\\n H -0.238295 1.625354 0.118269\\n C 1.139606 -0.193208 -0.031496\\n H 1.355044 -0.698094 0.908034\\n H -0.073907 -1.134900 -0.245811\\n H 2.028949 0.223228 -0.494171\\n N -1.065094 -0.300004 -0.078808\\n H -1.991673 -0.068229 0.289860\\n', 'description': 'ts5'}\n",
      "ts2: {'geometry': '6\\n \\n C 0.000000 0.509558 0.000000\\n H 0.037758 1.595479 0.000000\\n O -1.099586 -0.147769 0.000000\\n H 1.969129 -0.087220 0.000000\\n H -0.131827 -1.064473 0.000000\\n N 0.988804 -0.331283 0.000000\\n', 'description': 'ts2'}\n",
      "ts3: {'geometry': '7\\n \\n C -0.110274 0.529476 0.046417\\n H -0.295808 1.601222 0.124294\\n O -1.106394 -0.268578 -0.020297\\n C 1.104116 -0.175658 -0.047198\\n H 1.271359 -0.824225 0.811942\\n H -0.098402 -1.028334 -0.338969\\n H 2.01095         0.277049 -0.430205\\n', 'description': 'ts3'}\n",
      "ts4: {'geometry': '7\\n \\n C 0.000000 0.000000 0.523306\\n H 0.000000 0.000000 1.609625\\n N 0.000000 1.054818 -0.264887\\n H -0.314690 1.964618 0.041770\\n H 0.000000 0.000000 -1.124591\\n N 0.000000 -1.054818 -0.264887\\n H 0.314690 -1.964618 0.041770\\n', 'description': 'ts4'}\n",
      "reac2: {'geometry': '6\\n \\n C 0.000000 0.416575 0.000000\\n H -0.263416 1.473336 0.000000\\n O -1.110471 -0.343273 0.000000\\n H 1.876501 0.630870 0.000000\\n H -0.825348 -1.269969 0.000000\\n N 1.156576 -0.083929 0.000000\\n', 'description': 'reac2'}\n",
      "reac5: {'geometry': '8\\n \\n C -0.069675 0.426757 -0.000517\\n H -0.029832 1.509908 -0.008099\\n C -1.249182 -0.196033 0.013868\\n H -1.330339 -1.275694 0.016609\\n H -2.164964 0.373561 0.006734\\n H 1.220598 -1.153069 0.137248\\n N 1.181782 -0.169417 -0.079545\\n H 1.945210 0.346868 0.324216\\n', 'description': 'reac5'}\n",
      "reac4: {'geometry': '7\\n \\n C -0.122877 0.390310 -0.000787\\n H -0.118122 1.483913 -0.004726\\n N -1.171301 -0.329866 0.010781\\n H -2.008655 0.241760 0.002981\\n H 1.213885 -1.140955 0.095493\\n N 1.132820 -0.147882 -0.053220\\n H 1.919523 0.417657 0.208046\\n', 'description': 'reac4'}\n",
      "reac3: {'geometry': '7\\n \\n C 0.000000 0.441567 0.000000\\n H -0.160761 1.511265 0.000000\\n O -1.190786 -0.218672 0.000000\\n C 1.211912 -0.100389 0.000000\\n H 1.366272 -1.172267 0.000000\\n H 2.084631 0.533570 0.000000\\n H -1.035326 -1.170266 0.000000\\n', 'description': 'reac3'}\n",
      "ts1: {'geometry': '5\\n \\n C 0.000000 0.000000 0.489758\\n H 0.000000 0.000000 1.576776\\n H 0.000000 0.000000 -1.018930\\n O 0.000000 1.047477 -0.218525\\n O 0.000000 -1.047477 -0.218525\\n', 'description': 'ts1'}\n",
      "ts6: {'geometry': '9\\n \\n C 0.057227 -0.404548 0.000000\\n H 0.094881 -1.490374 0.000000\\n C 0.057227 0.193471 1.290465\\n H 0.016071 1.265997 1.410672\\n H -1.068272 -0.071437 0.000000\\n H -0.044418 -0.432272 2.160920\\n C 0.057227 0.193471 -1.290465\\n H -0.044418 -0.432272 -2.160920\\n H 0.016071 1.265997 -1.410672\\n', 'description': 'ts6'}\n",
      "reac6: {'geometry': '9\\n \\n C 0.000000 0.471708 0.000000\\n H -0.276412 1.522311 0.000000\\n C -1.134329 -0.504429 0.000000\\n H -0.776700 -1.534190 0.000000\\n H -1.772470 -0.363824 0.876336\\n H -1.772470 -0.363824 -0.876336\\n C 1.287947 0.151466 0.000000\\n H 2.060505 0.908567 0.000000\\n H 1.615839 -0.881516 0.000000\\n', 'description': 'reac6'}\n",
      "reac1: {'geometry': '5\\n \\n C 0.000000 0.421035 0.000000\\n H -0.383063 1.448042 0.000000\\n H -0.659556 -1.343644 0.000000\\n O 1.158518 0.117088 0.000000\\n O -1.028191 -0.445914 0.000000\\n', 'description': 'reac1'}\n",
      "\n",
      "Reactions:\n",
      "1: reac1 -> ts1, energy = 0.0585807889344\n",
      "2: reac2 -> ts2, energy = 0.057704308142400004\n",
      "3: reac3 -> ts3, energy = 0.097130007768\n",
      "4: reac4 -> ts4, energy = 0.0757279404288\n",
      "5: reac5 -> ts5, energy = 0.10466774257920002\n",
      "6: reac6 -> ts6, energy = 0.1294641809856\n",
      "\n",
      "\n"
     ]
    }
   ],
   "source": [
    "small=db.subset(open_shell=False,max_electrons=30)\n",
    "print(small)"
   ]
  },
  {
   "cell_type": "code",
   "execution_count": 71,
   "id": "f1829671-6488-426f-8e59-0854283b6333",
   "metadata": {},
   "outputs": [
    {
     "name": "stdout",
     "output_type": "stream",
     "text": [
      "{'HF': {'cc-pVDZ': <pymolpro.database.Database object at 0x7f087a920f40>, 'cc-pVTZ': <pymolpro.database.Database object at 0x7f09014aa5f0>}, 'MP2': {'cc-pVDZ': <pymolpro.database.Database object at 0x7f090c4d8b50>, 'cc-pVTZ': <pymolpro.database.Database object at 0x7f08587009a0>}, 'MP3': {'cc-pVDZ': <pymolpro.database.Database object at 0x7f090151d540>, 'cc-pVTZ': <pymolpro.database.Database object at 0x7f090150ece0>}, 'MP4': {'cc-pVDZ': <pymolpro.database.Database object at 0x7f087a903af0>, 'cc-pVTZ': <pymolpro.database.Database object at 0x7f0900805300>}, 'PAPT2': {'cc-pVDZ': <pymolpro.database.Database object at 0x7f08e3fd69b0>, 'cc-pVTZ': <pymolpro.database.Database object at 0x7f0900806fe0>}, 'PAPT3': {'cc-pVDZ': <pymolpro.database.Database object at 0x7f0900a13e20>, 'cc-pVTZ': <pymolpro.database.Database object at 0x7f0900805120>}, 'PAPT4': {'cc-pVDZ': <pymolpro.database.Database object at 0x7f09008063b0>, 'cc-pVTZ': <pymolpro.database.Database object at 0x7f08e3fa7940>}, 'CCSD': {'cc-pVDZ': <pymolpro.database.Database object at 0x7f09009472e0>, 'cc-pVTZ': <pymolpro.database.Database object at 0x7f0900a27a30>}, 'CCSD(T)': {'cc-pVDZ': <pymolpro.database.Database object at 0x7f0900a25000>, 'cc-pVTZ': <pymolpro.database.Database object at 0x7f0900a27610>}}\n"
     ]
    }
   ],
   "source": [
    "results = {}\n",
    "for method in methods:\n",
    "    results[method] = {}\n",
    "    for basis in bases:\n",
    "        results[method][basis] = pymolpro.database.run(small, methods[method], basis, location=project_name,\n",
    "                                                       backend=backend,\n",
    "                                                       preamble=\"core,small\", parallel=parallel)\n",
    "        if results[method][basis].failed: print(method, basis, 'failed', results[method][basis].project_directory)\n",
    "        \n",
    "print(results)    "
   ]
  },
  {
   "cell_type": "code",
   "execution_count": 72,
   "id": "88145d40-9eda-46e5-8d7f-525e006367b7",
   "metadata": {},
   "outputs": [
    {
     "data": {
      "text/html": [
       "<div>\n",
       "<style scoped>\n",
       "    .dataframe tbody tr th:only-of-type {\n",
       "        vertical-align: middle;\n",
       "    }\n",
       "\n",
       "    .dataframe tbody tr th {\n",
       "        vertical-align: top;\n",
       "    }\n",
       "\n",
       "    .dataframe thead th {\n",
       "        text-align: right;\n",
       "    }\n",
       "</style>\n",
       "<table border=\"1\" class=\"dataframe\">\n",
       "  <thead>\n",
       "    <tr style=\"text-align: right;\">\n",
       "      <th></th>\n",
       "      <th>HF/cc-pVTZ</th>\n",
       "      <th>MP2/cc-pVTZ</th>\n",
       "      <th>MP3/cc-pVTZ</th>\n",
       "      <th>MP4/cc-pVTZ</th>\n",
       "      <th>PAPT;MP2/cc-pVTZ</th>\n",
       "      <th>PAPT;MP3/cc-pVTZ</th>\n",
       "      <th>PAPT;MP4/cc-pVTZ</th>\n",
       "      <th>CCSD/cc-pVTZ</th>\n",
       "      <th>CCSD(T)/cc-pVTZ</th>\n",
       "    </tr>\n",
       "  </thead>\n",
       "  <tbody>\n",
       "    <tr>\n",
       "      <th>MAD</th>\n",
       "      <td>0.024625</td>\n",
       "      <td>0.002931</td>\n",
       "      <td>0.006630</td>\n",
       "      <td>0.002418</td>\n",
       "      <td>0.006033</td>\n",
       "      <td>0.006008</td>\n",
       "      <td>0.000507</td>\n",
       "      <td>0.005344</td>\n",
       "      <td>0.000502</td>\n",
       "    </tr>\n",
       "    <tr>\n",
       "      <th>MAXD</th>\n",
       "      <td>0.038738</td>\n",
       "      <td>0.003974</td>\n",
       "      <td>0.009090</td>\n",
       "      <td>0.004060</td>\n",
       "      <td>0.009355</td>\n",
       "      <td>0.009056</td>\n",
       "      <td>0.000807</td>\n",
       "      <td>0.010078</td>\n",
       "      <td>0.000889</td>\n",
       "    </tr>\n",
       "    <tr>\n",
       "      <th>RMSD</th>\n",
       "      <td>0.025433</td>\n",
       "      <td>0.003199</td>\n",
       "      <td>0.006744</td>\n",
       "      <td>0.002725</td>\n",
       "      <td>0.006224</td>\n",
       "      <td>0.006173</td>\n",
       "      <td>0.000582</td>\n",
       "      <td>0.005757</td>\n",
       "      <td>0.000580</td>\n",
       "    </tr>\n",
       "    <tr>\n",
       "      <th>MSD</th>\n",
       "      <td>0.024625</td>\n",
       "      <td>-0.002931</td>\n",
       "      <td>0.006630</td>\n",
       "      <td>-0.002418</td>\n",
       "      <td>0.006033</td>\n",
       "      <td>0.006008</td>\n",
       "      <td>0.000296</td>\n",
       "      <td>0.005344</td>\n",
       "      <td>-0.000123</td>\n",
       "    </tr>\n",
       "    <tr>\n",
       "      <th>STDEVD</th>\n",
       "      <td>0.006964</td>\n",
       "      <td>0.001406</td>\n",
       "      <td>0.001355</td>\n",
       "      <td>0.001377</td>\n",
       "      <td>0.001677</td>\n",
       "      <td>0.001550</td>\n",
       "      <td>0.000549</td>\n",
       "      <td>0.002346</td>\n",
       "      <td>0.000621</td>\n",
       "    </tr>\n",
       "  </tbody>\n",
       "</table>\n",
       "</div>"
      ],
      "text/plain": [
       "        HF/cc-pVTZ  MP2/cc-pVTZ  MP3/cc-pVTZ  MP4/cc-pVTZ  PAPT;MP2/cc-pVTZ   \n",
       "MAD       0.024625     0.002931     0.006630     0.002418          0.006033  \\\n",
       "MAXD      0.038738     0.003974     0.009090     0.004060          0.009355   \n",
       "RMSD      0.025433     0.003199     0.006744     0.002725          0.006224   \n",
       "MSD       0.024625    -0.002931     0.006630    -0.002418          0.006033   \n",
       "STDEVD    0.006964     0.001406     0.001355     0.001377          0.001677   \n",
       "\n",
       "        PAPT;MP3/cc-pVTZ  PAPT;MP4/cc-pVTZ  CCSD/cc-pVTZ  CCSD(T)/cc-pVTZ  \n",
       "MAD             0.006008          0.000507      0.005344         0.000502  \n",
       "MAXD            0.009056          0.000807      0.010078         0.000889  \n",
       "RMSD            0.006173          0.000582      0.005757         0.000580  \n",
       "MSD             0.006008          0.000296      0.005344        -0.000123  \n",
       "STDEVD          0.001550          0.000549      0.002346         0.000621  "
      ]
     },
     "execution_count": 72,
     "metadata": {},
     "output_type": "execute_result"
    }
   ],
   "source": [
    "analyse=pymolpro.database.analyse([result['cc-pVTZ'] for result in results.values()],db)\n",
    "analyse['reaction statistics']"
   ]
  },
  {
   "cell_type": "code",
   "execution_count": 76,
   "id": "df61126d-d853-43c4-84e0-3c29a7d06951",
   "metadata": {},
   "outputs": [
    {
     "data": {
      "image/png": "[encoded data removed]",
      "text/plain": [
       "<Figure size 1800x600 with 2 Axes>"
      ]
     },
     "metadata": {},
     "output_type": "display_data"
    }
   ],
   "source": [
    "import matplotlib.pyplot as plt\n",
    "\n",
    "methods_pruned = [method for method in methods if (method != 'HF') and (method != 'CCSD(T)')]\n",
    "bases_pruned = ['cc-pVTZ', 'cc-pVDZ']\n",
    "fig, panes = plt.subplots(nrows=1, ncols=len(bases_pruned), sharey=True, figsize=(18, 6))\n",
    "\n",
    "for pane in range(len(bases_pruned)):\n",
    "    data = []\n",
    "    for method in methods_pruned:\n",
    "        data.append(\n",
    "            pymolpro.database.analyse(results[method][bases_pruned[pane]],\n",
    "                                      results['CCSD(T)']['cc-pVTZ'],'kJ/mol')['reaction energy deviations'].to_numpy()[:, 0]\n",
    "        )\n",
    "    panes[pane].violinplot(data, showmeans=True, showextrema=True, vert=True, bw_method='silverman')\n",
    "    panes[pane].set_xticks(range(1, len(methods_pruned) + 1), labels=methods_pruned, rotation=-90)\n",
    "    panes[pane].set_title(bases_pruned[pane])\n",
    "panes[0].set_ylabel('Error / kJ/mol')\n",
    "plt.savefig(project_name + \".violin.pdf\")\n",
    "df = pd.DataFrame(data)\n",
    "df.to_excel(\"PAPT.xlsx\")\n"
   ]
  },
  {
   "cell_type": "code",
   "execution_count": 75,
   "id": "6fc55236-da3b-4769-ab35-11b08ee31307",
   "metadata": {},
   "outputs": [
    {
     "data": {
      "text/plain": [
       "[<pymolpro.database.Database at 0x7f08e3c26050>]"
      ]
     },
     "execution_count": 75,
     "metadata": {},
     "output_type": "execute_result"
    }
   ],
   "source": [
    "extrapolate=pymolpro.database.basis_extrapolate(results[method].values(), results[\"HF\"].values())\n",
    "extrapolate"
   ]
  }
 ],
 "metadata": {
  "kernelspec": {
   "display_name": "Python [conda env:persistent] *",
   "language": "python",
   "name": "conda-env-persistent-py"
  },
  "language_info": {
   "codemirror_mode": {
    "name": "ipython",
    "version": 3
   },
   "file_extension": ".py",
   "mimetype": "text/x-python",
   "name": "python",
   "nbconvert_exporter": "python",
   "pygments_lexer": "ipython3",
   "version": "3.10.10"
  }
 },
 "nbformat": 4,
 "nbformat_minor": 5
}
