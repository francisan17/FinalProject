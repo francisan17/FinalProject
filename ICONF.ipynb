{
 "cells": [
  {
   "cell_type": "code",
   "execution_count": 1,
   "id": "3fd559dc-6451-437d-bcac-8f063b5ea27a",
   "metadata": {},
   "outputs": [],
   "source": [
    "import pymolpro\n",
    "import pandas as pd"
   ]
  },
  {
   "cell_type": "code",
   "execution_count": 2,
   "id": "ded2a46a-62b3-4ddb-ab2a-9ca78a24cb94",
   "metadata": {},
   "outputs": [],
   "source": [
    "backend = 'local' \n",
    "project_name = 'ICONF_methodtest'\n",
    "parallel = 32"
   ]
  },
  {
   "cell_type": "code",
   "execution_count": 3,
   "id": "601861d1-387b-49ce-8ff3-59d1d1a28c21",
   "metadata": {},
   "outputs": [],
   "source": [
    "methods = ['HF', 'MP2', 'MP3','MP4','PAPT;MP2','PAPT;MP3','PAPT;MP4','CCSD','CCSD(T)']\n",
    "bases = ['cc-pVDZ','cc-pVTZ']"
   ]
  },
  {
   "cell_type": "code",
   "execution_count": 4,
   "id": "a5b86d67-cf9a-4a3d-9e55-aaa78967b9fa",
   "metadata": {},
   "outputs": [],
   "source": [
    "db = pymolpro.database.load(\"GMTKN55_ICONF\")"
   ]
  },
  {
   "cell_type": "code",
   "execution_count": 5,
   "id": "b6fbc172-6981-45dc-ba99-a7e34219ac7b",
   "metadata": {},
   "outputs": [
    {
     "name": "stdout",
     "output_type": "stream",
     "text": [
      "GMTKN55 ICONF (closed shell only) (maximum number of electrons 30):\n",
      "\n",
      "Molecules:\n",
      "N3H5_1: {'geometry': '           8\\n  \\n    N         -0.77907197      0.10994832      0.00000000\\n    N         -0.03149962      0.01698457      1.22272462\\n    N         -0.03149962      0.01698457     -1.22272462\\n    H          0.73807619     -0.65953384     -1.13084901\\n    H          0.38903766      0.93051636     -1.38896889\\n    H          0.73807619     -0.65953384      1.13084901\\n    H          0.38903766      0.93051636      1.38896889\\n    H         -1.41215648     -0.68588250      0.00000000\\n', 'description': 'N3H5_1'}\n",
      "N3H5_2: {'geometry': '           8\\n  \\n    N         -0.17184112     -0.55707404      0.30027257\\n    N          1.20115329     -0.58382423     -0.10374620\\n    N         -0.75671527      0.76298616      0.15935504\\n    H         -1.28142531      0.84592998     -0.71555242\\n    H         -1.41634923      0.87959036      0.92732319\\n    H          1.34067837      0.03520591     -0.91080201\\n    H          1.72995729     -0.17035158      0.66351983\\n    H         -0.64545801     -1.21246256     -0.32036999\\n', 'description': 'N3H5_2'}\n",
      "N3H5_3: {'geometry': '           8\\n  \\n    N         -0.45451522      0.21870193      0.00000000\\n    N          0.37232336      0.19757915      1.17353971\\n    N          0.37232336      0.19757915     -1.17353971\\n    H          0.50266120     -0.75195487     -1.53082191\\n    H         -0.11089378      0.74253907     -1.88459933\\n    H          0.50266120     -0.75195487      1.53082191\\n    H         -0.11089378      0.74253907      1.88459933\\n    H         -1.07366634     -0.59502865      0.00000000\\n', 'description': 'N3H5_3'}\n",
      "\n",
      "Reactions:\n",
      "1: N3H5_1 -> N3H5_2, energy = 0.001434241296\n",
      "2: N3H5_1 -> N3H5_3, energy = 0.008430151617600001\n",
      "\n",
      "\n"
     ]
    }
   ],
   "source": [
    "small=db.subset(open_shell=False,max_electrons=30)\n",
    "print(small)"
   ]
  },
  {
   "cell_type": "code",
   "execution_count": 6,
   "id": "817b50f1-088b-4076-aa73-2bdcc1263a65",
   "metadata": {},
   "outputs": [
    {
     "name": "stdout",
     "output_type": "stream",
     "text": [
      "{'HF': {'cc-pVDZ': <pymolpro.database.Database object at 0x7f9c4c180190>, 'cc-pVTZ': <pymolpro.database.Database object at 0x7f9c4c183850>}, 'MP2': {'cc-pVDZ': <pymolpro.database.Database object at 0x7f9c4bfbf160>, 'cc-pVTZ': <pymolpro.database.Database object at 0x7f9c4bfbfd90>}, 'MP3': {'cc-pVDZ': <pymolpro.database.Database object at 0x7f9c4bfe8040>, 'cc-pVTZ': <pymolpro.database.Database object at 0x7f9c4bfe8220>}, 'MP4': {'cc-pVDZ': <pymolpro.database.Database object at 0x7f9c4bfe84f0>, 'cc-pVTZ': <pymolpro.database.Database object at 0x7f9c4bfe87f0>}, 'PAPT;MP2': {'cc-pVDZ': <pymolpro.database.Database object at 0x7f9c4bfe8370>, 'cc-pVTZ': <pymolpro.database.Database object at 0x7f9c4bfe8ca0>}, 'PAPT;MP3': {'cc-pVDZ': <pymolpro.database.Database object at 0x7f9c4bfe9960>, 'cc-pVTZ': <pymolpro.database.Database object at 0x7f9cfd7d9090>}, 'PAPT;MP4': {'cc-pVDZ': <pymolpro.database.Database object at 0x7f9c4bfe9db0>, 'cc-pVTZ': <pymolpro.database.Database object at 0x7f9c4bfe95a0>}, 'CCSD': {'cc-pVDZ': <pymolpro.database.Database object at 0x7f9c4bfe88b0>, 'cc-pVTZ': <pymolpro.database.Database object at 0x7f9c4bfea620>}, 'CCSD(T)': {'cc-pVDZ': <pymolpro.database.Database object at 0x7f9c4bfe9a80>, 'cc-pVTZ': <pymolpro.database.Database object at 0x7f9cfd7db940>}}\n"
     ]
    }
   ],
   "source": [
    "results = {}\n",
    "for method in methods:\n",
    "    results[method] = {}\n",
    "    for basis in bases:\n",
    "        results[method][basis] = pymolpro.database.run(small,method, basis + '-F12' if 'F12' in method else basis,\n",
    "                                                       location=project_name, backend=backend,\n",
    "                                                       preamble=\"core\", parallel=parallel)\n",
    "        if results[method][basis].failed: print(method, basis, 'failed', results[method][basis].project_directory)\n",
    "        \n",
    "print(results) "
   ]
  },
  {
   "cell_type": "code",
   "execution_count": 7,
   "id": "9bb8ab2a-a374-47fb-8d76-8c8401f6f0fe",
   "metadata": {},
   "outputs": [
    {
     "data": {
      "text/html": [
       "<div>\n",
       "<style scoped>\n",
       "    .dataframe tbody tr th:only-of-type {\n",
       "        vertical-align: middle;\n",
       "    }\n",
       "\n",
       "    .dataframe tbody tr th {\n",
       "        vertical-align: top;\n",
       "    }\n",
       "\n",
       "    .dataframe thead th {\n",
       "        text-align: right;\n",
       "    }\n",
       "</style>\n",
       "<table border=\"1\" class=\"dataframe\">\n",
       "  <thead>\n",
       "    <tr style=\"text-align: right;\">\n",
       "      <th></th>\n",
       "      <th>HF/cc-pVTZ</th>\n",
       "      <th>MP2/cc-pVTZ</th>\n",
       "      <th>MP3/cc-pVTZ</th>\n",
       "      <th>MP4/cc-pVTZ</th>\n",
       "      <th>PAPT;MP2/cc-pVTZ</th>\n",
       "      <th>PAPT;MP3/cc-pVTZ</th>\n",
       "      <th>PAPT;MP4/cc-pVTZ</th>\n",
       "      <th>CCSD/cc-pVTZ</th>\n",
       "      <th>CCSD(T)/cc-pVTZ</th>\n",
       "    </tr>\n",
       "  </thead>\n",
       "  <tbody>\n",
       "    <tr>\n",
       "      <th>MAD</th>\n",
       "      <td>0.000653</td>\n",
       "      <td>0.000873</td>\n",
       "      <td>0.000337</td>\n",
       "      <td>0.000903</td>\n",
       "      <td>0.000337</td>\n",
       "      <td>0.000339</td>\n",
       "      <td>0.000771</td>\n",
       "      <td>0.000348</td>\n",
       "      <td>0.000687</td>\n",
       "    </tr>\n",
       "    <tr>\n",
       "      <th>MAXD</th>\n",
       "      <td>0.000871</td>\n",
       "      <td>0.001222</td>\n",
       "      <td>0.000531</td>\n",
       "      <td>0.001304</td>\n",
       "      <td>0.000552</td>\n",
       "      <td>0.000550</td>\n",
       "      <td>0.001129</td>\n",
       "      <td>0.000561</td>\n",
       "      <td>0.001037</td>\n",
       "    </tr>\n",
       "    <tr>\n",
       "      <th>RMSD</th>\n",
       "      <td>0.000689</td>\n",
       "      <td>0.000940</td>\n",
       "      <td>0.000389</td>\n",
       "      <td>0.000988</td>\n",
       "      <td>0.000400</td>\n",
       "      <td>0.000399</td>\n",
       "      <td>0.000850</td>\n",
       "      <td>0.000408</td>\n",
       "      <td>0.000771</td>\n",
       "    </tr>\n",
       "    <tr>\n",
       "      <th>MSD</th>\n",
       "      <td>-0.000653</td>\n",
       "      <td>0.000873</td>\n",
       "      <td>0.000337</td>\n",
       "      <td>0.000903</td>\n",
       "      <td>0.000337</td>\n",
       "      <td>0.000339</td>\n",
       "      <td>0.000771</td>\n",
       "      <td>0.000348</td>\n",
       "      <td>0.000687</td>\n",
       "    </tr>\n",
       "    <tr>\n",
       "      <th>STDEVD</th>\n",
       "      <td>0.000307</td>\n",
       "      <td>0.000493</td>\n",
       "      <td>0.000275</td>\n",
       "      <td>0.000567</td>\n",
       "      <td>0.000305</td>\n",
       "      <td>0.000299</td>\n",
       "      <td>0.000507</td>\n",
       "      <td>0.000301</td>\n",
       "      <td>0.000495</td>\n",
       "    </tr>\n",
       "  </tbody>\n",
       "</table>\n",
       "</div>"
      ],
      "text/plain": [
       "        HF/cc-pVTZ  MP2/cc-pVTZ  MP3/cc-pVTZ  MP4/cc-pVTZ  PAPT;MP2/cc-pVTZ   \n",
       "MAD       0.000653     0.000873     0.000337     0.000903          0.000337  \\\n",
       "MAXD      0.000871     0.001222     0.000531     0.001304          0.000552   \n",
       "RMSD      0.000689     0.000940     0.000389     0.000988          0.000400   \n",
       "MSD      -0.000653     0.000873     0.000337     0.000903          0.000337   \n",
       "STDEVD    0.000307     0.000493     0.000275     0.000567          0.000305   \n",
       "\n",
       "        PAPT;MP3/cc-pVTZ  PAPT;MP4/cc-pVTZ  CCSD/cc-pVTZ  CCSD(T)/cc-pVTZ  \n",
       "MAD             0.000339          0.000771      0.000348         0.000687  \n",
       "MAXD            0.000550          0.001129      0.000561         0.001037  \n",
       "RMSD            0.000399          0.000850      0.000408         0.000771  \n",
       "MSD             0.000339          0.000771      0.000348         0.000687  \n",
       "STDEVD          0.000299          0.000507      0.000301         0.000495  "
      ]
     },
     "execution_count": 7,
     "metadata": {},
     "output_type": "execute_result"
    }
   ],
   "source": [
    "analyse=pymolpro.database.analyse([result['cc-pVTZ'] for result in results.values()],small)\n",
    "analyse['reaction statistics']"
   ]
  },
  {
   "cell_type": "code",
   "execution_count": 8,
   "id": "ff56c2c2-22be-45b1-bbf2-6752818867f9",
   "metadata": {},
   "outputs": [
    {
     "data": {
      "image/png": "[encoded data removed]",
      "text/plain": [
       "<Figure size 1800x600 with 2 Axes>"
      ]
     },
     "metadata": {},
     "output_type": "display_data"
    }
   ],
   "source": [
    "import matplotlib.pyplot as plt\n",
    "\n",
    "methods_pruned = [method for method in methods if method != 'HF']\n",
    "bases_pruned = ['cc-pVTZ', 'cc-pVDZ']\n",
    "fig, panes = plt.subplots(nrows=1, ncols=len(bases_pruned), sharey=True, figsize=(18, 6))\n",
    "\n",
    "for pane in range(len(bases_pruned)):\n",
    "    data = []\n",
    "    for method in methods_pruned:\n",
    "        data.append(\n",
    "            pymolpro.database.analyse(results[method][bases_pruned[pane]],\n",
    "                                      results['CCSD(T)']['cc-pVTZ'],'kJ/mol')['reaction energy deviations'].to_numpy()[:, 0]\n",
    "        )\n",
    "    panes[pane].violinplot(data, showmeans=True, showextrema=True, vert=True, bw_method='silverman')\n",
    "    panes[pane].set_xticks(range(1, len(methods_pruned) + 1), labels=methods_pruned, rotation=-90)\n",
    "    panes[pane].set_title(bases_pruned[pane])\n",
    "panes[0].set_ylabel('Error / kJ/mol')\n",
    "plt.savefig(project_name + \".violin.pdf\")\n"
   ]
  }
 ],
 "metadata": {
  "kernelspec": {
   "display_name": "Python 3 (ipykernel)",
   "language": "python",
   "name": "python3"
  },
  "language_info": {
   "codemirror_mode": {
    "name": "ipython",
    "version": 3
   },
   "file_extension": ".py",
   "mimetype": "text/x-python",
   "name": "python",
   "nbconvert_exporter": "python",
   "pygments_lexer": "ipython3",
   "version": "3.10.10"
  }
 },
 "nbformat": 4,
 "nbformat_minor": 5
}
