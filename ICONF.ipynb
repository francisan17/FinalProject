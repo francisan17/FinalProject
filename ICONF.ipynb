{
 "cells": [
  {
   "cell_type": "code",
   "execution_count": 8,
   "id": "8ba6250b-fce4-4985-99c9-d51a3a6f7dc1",
   "metadata": {},
   "outputs": [],
   "source": [
    "import pymolpro\n",
    "import pandas as pd"
   ]
  },
  {
   "cell_type": "code",
   "execution_count": 9,
   "id": "27025069-ec25-47a0-8fbb-ef6e531edd2d",
   "metadata": {},
   "outputs": [],
   "source": [
    "backend = 'local' \n",
    "project_name = 'ICONF_methodtest'\n",
    "parallel = 8"
   ]
  },
  {
   "cell_type": "code",
   "execution_count": 10,
   "id": "d3667b97-4e5e-4c5c-ba37-04450c6601fe",
   "metadata": {},
   "outputs": [],
   "source": [
    "methods = {\"HF\": \"hf\",\n",
    "\"MP2\": \"mp2\",\n",
    "\"MP3\": \"mp3\",\n",
    "\"MP4\": \"mp4\",\n",
    "\"PAPT2\":\"PAPT;MP2\",\n",
    "\"PAPT3\":\"PAPT;MP3\",\n",
    "\"PAPT4\":\"PAPT;MP4\",\n",
    "\"CCSD\":\"CCSD\",\n",
    "\"CCSD(T)\":\"CCSD(T)\" }\n",
    "bases = ['cc-pVDZ','cc-pVTZ']"
   ]
  },
  {
   "cell_type": "code",
   "execution_count": 11,
   "id": "eafac997-bc20-4269-8133-54949b8f3437",
   "metadata": {},
   "outputs": [],
   "source": [
    "db = pymolpro.database.load(\"GMTKN55_ICONF\")"
   ]
  },
  {
   "cell_type": "code",
   "execution_count": 12,
   "id": "af1e7c88-5023-4149-bf73-40403923429d",
   "metadata": {},
   "outputs": [
    {
     "name": "stdout",
     "output_type": "stream",
     "text": [
      "GMTKN55 ICONF (closed shell only) (maximum number of electrons 40):\n",
      "\n",
      "Molecules:\n",
      "N3H5_1: {'geometry': '           8\\n  \\n    N         -0.77907197      0.10994832      0.00000000\\n    N         -0.03149962      0.01698457      1.22272462\\n    N         -0.03149962      0.01698457     -1.22272462\\n    H          0.73807619     -0.65953384     -1.13084901\\n    H          0.38903766      0.93051636     -1.38896889\\n    H          0.73807619     -0.65953384      1.13084901\\n    H          0.38903766      0.93051636      1.38896889\\n    H         -1.41215648     -0.68588250      0.00000000\\n', 'description': 'N3H5_1'}\n",
      "N4H6_1: {'geometry': '          10\\n  \\n    N         -0.36120484     -0.92429803      0.27257660\\n    N          1.02247060     -1.25862078      0.17701934\\n    H          1.59670310     -0.40904371      0.11357548\\n    H          1.13377768     -1.75855802     -0.70395977\\n    H         -0.50225869     -0.62945487      1.24604677\\n    N         -0.74206979      0.14702554     -0.61853552\\n    N         -0.42150018      1.48198064     -0.19308732\\n    H         -1.75800424      0.09952159     -0.67804120\\n    H         -0.51640901      1.58409122      0.82511497\\n    H          0.54849537      1.66735642     -0.44070935\\n', 'description': 'N4H6_1'}\n",
      "N3H5_2: {'geometry': '           8\\n  \\n    N         -0.17184112     -0.55707404      0.30027257\\n    N          1.20115329     -0.58382423     -0.10374620\\n    N         -0.75671527      0.76298616      0.15935504\\n    H         -1.28142531      0.84592998     -0.71555242\\n    H         -1.41634923      0.87959036      0.92732319\\n    H          1.34067837      0.03520591     -0.91080201\\n    H          1.72995729     -0.17035158      0.66351983\\n    H         -0.64545801     -1.21246256     -0.32036999\\n', 'description': 'N3H5_2'}\n",
      "N3H5_3: {'geometry': '           8\\n  \\n    N         -0.45451522      0.21870193      0.00000000\\n    N          0.37232336      0.19757915      1.17353971\\n    N          0.37232336      0.19757915     -1.17353971\\n    H          0.50266120     -0.75195487     -1.53082191\\n    H         -0.11089378      0.74253907     -1.88459933\\n    H          0.50266120     -0.75195487      1.53082191\\n    H         -0.11089378      0.74253907      1.88459933\\n    H         -1.07366634     -0.59502865      0.00000000\\n', 'description': 'N3H5_3'}\n",
      "N4H6_2: {'geometry': '          10\\n  \\n    N          0.26705172      0.69636738     -0.56173710\\n    N          1.35510702      0.81253986      0.35870941\\n    H          1.84787308     -0.08681106      0.41533588\\n    H          0.95114425      1.00024418      1.27451809\\n    H          0.69417443      0.79066305     -1.48682628\\n    N         -0.26705172     -0.69636738     -0.56173710\\n    N         -1.35510702     -0.81253986      0.35870941\\n    H         -0.69417443     -0.79066305     -1.48682628\\n    H         -0.95114425     -1.00024418      1.27451809\\n    H         -1.84787308      0.08681106      0.41533588\\n', 'description': 'N4H6_2'}\n",
      "N4H6_3: {'geometry': '          10\\n  \\n    N         -0.01234627     -0.59896192      0.85529092\\n    N          1.40057789     -0.67279174      0.69167556\\n    H          1.79109995      0.27896721      0.69866684\\n    H          1.54441784     -1.03380871     -0.25061935\\n    H         -0.15705127     -0.36055947      1.84025932\\n    N         -0.53592587      0.61236963      0.14949390\\n    N         -0.56764650      0.25608390     -1.24106417\\n    H         -1.49741565      0.67903911      0.50796923\\n    H         -0.56243275      1.12334217     -1.77149744\\n    H         -1.40327738     -0.28368017     -1.48017482\\n', 'description': 'N4H6_3'}\n",
      "\n",
      "Reactions:\n",
      "1: N3H5_1 -> N3H5_2, energy = 0.001434241296\n",
      "2: N3H5_1 -> N3H5_3, energy = 0.008430151617600001\n",
      "3: N4H6_1 -> N4H6_2, energy = 0.0002071681872\n",
      "4: N4H6_1 -> N4H6_3, energy = 0.0037130913552\n",
      "\n",
      "\n"
     ]
    }
   ],
   "source": [
    "small=db.subset(open_shell=False,max_electrons=40)\n",
    "print(small)"
   ]
  },
  {
   "cell_type": "code",
   "execution_count": null,
   "id": "b5852e19-b04a-4e54-b39a-5577f7f3a8dd",
   "metadata": {},
   "outputs": [],
   "source": [
    "results = {}\n",
    "for method in methods:\n",
    "    results[method] = {}\n",
    "    for basis in bases:\n",
    "        results[method][basis] = pymolpro.database.run(small, methods[method], basis, location=project_name,\n",
    "                                                       backend=backend,\n",
    "                                                       preamble=\"core,small\", parallel=parallel)\n",
    "        if results[method][basis].failed: print(method, basis, 'failed', results[method][basis].project_directory)\n",
    "        \n",
    "print(results)    "
   ]
  },
  {
   "cell_type": "code",
   "execution_count": 16,
   "id": "07bc41ae-9a6d-4635-a795-89835bb303da",
   "metadata": {},
   "outputs": [
    {
     "data": {
      "text/html": [
       "<div>\n",
       "<style scoped>\n",
       "    .dataframe tbody tr th:only-of-type {\n",
       "        vertical-align: middle;\n",
       "    }\n",
       "\n",
       "    .dataframe tbody tr th {\n",
       "        vertical-align: top;\n",
       "    }\n",
       "\n",
       "    .dataframe thead th {\n",
       "        text-align: right;\n",
       "    }\n",
       "</style>\n",
       "<table border=\"1\" class=\"dataframe\">\n",
       "  <thead>\n",
       "    <tr style=\"text-align: right;\">\n",
       "      <th></th>\n",
       "      <th>HF/cc-pVTZ</th>\n",
       "      <th>MP2/cc-pVTZ</th>\n",
       "      <th>MP3/cc-pVTZ</th>\n",
       "      <th>MP4/cc-pVTZ</th>\n",
       "      <th>PAPT;MP2/cc-pVTZ</th>\n",
       "      <th>PAPT;MP3/cc-pVTZ</th>\n",
       "      <th>PAPT;MP4/cc-pVTZ</th>\n",
       "      <th>CCSD/cc-pVTZ</th>\n",
       "      <th>CCSD(T)/cc-pVTZ</th>\n",
       "    </tr>\n",
       "  </thead>\n",
       "  <tbody>\n",
       "    <tr>\n",
       "      <th>MAD</th>\n",
       "      <td>0.001396</td>\n",
       "      <td>0.000617</td>\n",
       "      <td>0.000459</td>\n",
       "      <td>0.000518</td>\n",
       "      <td>0.000396</td>\n",
       "      <td>0.000398</td>\n",
       "      <td>0.000459</td>\n",
       "      <td>0.000360</td>\n",
       "      <td>0.000366</td>\n",
       "    </tr>\n",
       "    <tr>\n",
       "      <th>MAXD</th>\n",
       "      <td>0.002162</td>\n",
       "      <td>0.001222</td>\n",
       "      <td>0.000611</td>\n",
       "      <td>0.001304</td>\n",
       "      <td>0.000552</td>\n",
       "      <td>0.000550</td>\n",
       "      <td>0.001129</td>\n",
       "      <td>0.000561</td>\n",
       "      <td>0.001037</td>\n",
       "    </tr>\n",
       "    <tr>\n",
       "      <th>RMSD</th>\n",
       "      <td>0.001589</td>\n",
       "      <td>0.000713</td>\n",
       "      <td>0.000496</td>\n",
       "      <td>0.000707</td>\n",
       "      <td>0.000429</td>\n",
       "      <td>0.000430</td>\n",
       "      <td>0.000611</td>\n",
       "      <td>0.000390</td>\n",
       "      <td>0.000547</td>\n",
       "    </tr>\n",
       "    <tr>\n",
       "      <th>MSD</th>\n",
       "      <td>0.000743</td>\n",
       "      <td>0.000617</td>\n",
       "      <td>0.000459</td>\n",
       "      <td>0.000518</td>\n",
       "      <td>0.000396</td>\n",
       "      <td>0.000398</td>\n",
       "      <td>0.000459</td>\n",
       "      <td>0.000360</td>\n",
       "      <td>0.000361</td>\n",
       "    </tr>\n",
       "    <tr>\n",
       "      <th>STDEVD</th>\n",
       "      <td>0.001622</td>\n",
       "      <td>0.000413</td>\n",
       "      <td>0.000214</td>\n",
       "      <td>0.000556</td>\n",
       "      <td>0.000190</td>\n",
       "      <td>0.000187</td>\n",
       "      <td>0.000466</td>\n",
       "      <td>0.000174</td>\n",
       "      <td>0.000474</td>\n",
       "    </tr>\n",
       "  </tbody>\n",
       "</table>\n",
       "</div>"
      ],
      "text/plain": [
       "        HF/cc-pVTZ  MP2/cc-pVTZ  MP3/cc-pVTZ  MP4/cc-pVTZ  PAPT;MP2/cc-pVTZ   \n",
       "MAD       0.001396     0.000617     0.000459     0.000518          0.000396  \\\n",
       "MAXD      0.002162     0.001222     0.000611     0.001304          0.000552   \n",
       "RMSD      0.001589     0.000713     0.000496     0.000707          0.000429   \n",
       "MSD       0.000743     0.000617     0.000459     0.000518          0.000396   \n",
       "STDEVD    0.001622     0.000413     0.000214     0.000556          0.000190   \n",
       "\n",
       "        PAPT;MP3/cc-pVTZ  PAPT;MP4/cc-pVTZ  CCSD/cc-pVTZ  CCSD(T)/cc-pVTZ  \n",
       "MAD             0.000398          0.000459      0.000360         0.000366  \n",
       "MAXD            0.000550          0.001129      0.000561         0.001037  \n",
       "RMSD            0.000430          0.000611      0.000390         0.000547  \n",
       "MSD             0.000398          0.000459      0.000360         0.000361  \n",
       "STDEVD          0.000187          0.000466      0.000174         0.000474  "
      ]
     },
     "execution_count": 16,
     "metadata": {},
     "output_type": "execute_result"
    }
   ],
   "source": [
    "analyse=pymolpro.database.analyse([result['cc-pVTZ'] for result in results.values()],small)\n",
    "analyse['reaction statistics']"
   ]
  },
  {
   "cell_type": "code",
   "execution_count": 21,
   "id": "9f0a830d-45ae-4610-b0fd-d835fd20c182",
   "metadata": {},
   "outputs": [
    {
     "data": {
      "image/png": "[encoded data removed]",
      "text/plain": [
       "<Figure size 1800x600 with 2 Axes>"
      ]
     },
     "metadata": {},
     "output_type": "display_data"
    }
   ],
   "source": [
    "import matplotlib.pyplot as plt\n",
    "\n",
    "methods_pruned = [method for method in methods if (method != 'HF') and (method != 'CCSD(T)')]\n",
    "bases_pruned = ['cc-pVTZ', 'cc-pVTZ']\n",
    "fig, panes = plt.subplots(nrows=1, ncols=len(bases_pruned), sharey=True, figsize=(18, 6))\n",
    "\n",
    "for pane in range(len(bases_pruned)):\n",
    "    data = []\n",
    "    for method in methods_pruned:\n",
    "        data.append(\n",
    "            pymolpro.database.analyse(results[method][bases_pruned[pane]],\n",
    "                                      results['CCSD(T)']['cc-pVTZ'],'kJ/mol')['reaction energy deviations'].to_numpy()[:, 0]\n",
    "        )\n",
    "    panes[pane].violinplot(data, showmeans=True, showextrema=True, vert=True, bw_method='silverman')\n",
    "    panes[pane].set_xticks(range(1, len(methods_pruned) + 1), labels=methods_pruned, rotation=-90)\n",
    "    panes[pane].set_title(bases_pruned[pane])\n",
    "panes[0].set_ylabel('Error / kJ/mol')\n",
    "plt.savefig(project_name + \".violin.pdf\")\n",
    "df = pd.DataFrame(data)\n",
    "df.to_excel(\"PAPT.xlsx\")"
   ]
  },
  {
   "cell_type": "code",
   "execution_count": 20,
   "id": "8df5eedb-0b84-4d0f-9571-663adf81e280",
   "metadata": {},
   "outputs": [
    {
     "data": {
      "text/plain": [
       "[<pymolpro.database.Database at 0x7f0aa35f8c10>]"
      ]
     },
     "execution_count": 20,
     "metadata": {},
     "output_type": "execute_result"
    }
   ],
   "source": [
    "extrapolate=pymolpro.database.basis_extrapolate(results[method].values(), results[\"HF\"].values())\n",
    "extrapolate"
   ]
  }
 ],
 "metadata": {
  "kernelspec": {
   "display_name": "Python [conda env:persistent] *",
   "language": "python",
   "name": "conda-env-persistent-py"
  },
  "language_info": {
   "codemirror_mode": {
    "name": "ipython",
    "version": 3
   },
   "file_extension": ".py",
   "mimetype": "text/x-python",
   "name": "python",
   "nbconvert_exporter": "python",
   "pygments_lexer": "ipython3",
   "version": "3.10.10"
  }
 },
 "nbformat": 4,
 "nbformat_minor": 5
}
