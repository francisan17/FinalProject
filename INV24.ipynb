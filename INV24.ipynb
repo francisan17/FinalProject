{
 "cells": [
  {
   "cell_type": "code",
   "execution_count": 172,
   "id": "3fd559dc-6451-437d-bcac-8f063b5ea27a",
   "metadata": {},
   "outputs": [],
   "source": [
    "import pymolpro\n",
    "import pandas as pd"
   ]
  },
  {
   "cell_type": "code",
   "execution_count": 173,
   "id": "ded2a46a-62b3-4ddb-ab2a-9ca78a24cb94",
   "metadata": {},
   "outputs": [],
   "source": [
    "backend = 'local' \n",
    "project_name = 'INV24_methodtest'\n",
    "parallel = 8"
   ]
  },
  {
   "cell_type": "code",
   "execution_count": 174,
   "id": "601861d1-387b-49ce-8ff3-59d1d1a28c21",
   "metadata": {},
   "outputs": [],
   "source": [
    "methods = {\"HF\": \"hf\",\n",
    "\"MP2\": \"mp2\",\n",
    "\"MP3\": \"mp3\",\n",
    "\"MP4\": \"mp4\",\n",
    "\"PAPT2\":\"PAPT;MP2\",\n",
    "\"PAPT3\":\"PAPT;MP3\",\n",
    "\"PAPT4\":\"PAPT;MP4\",\n",
    "\"CCSD\":\"CCSD\",\n",
    "\"CCSD(T)\":\"CCSD(T)\" }\n",
    "bases = ['cc-pVDZ','cc-pVTZ']"
   ]
  },
  {
   "cell_type": "code",
   "execution_count": 175,
   "id": "a5b86d67-cf9a-4a3d-9e55-aaa78967b9fa",
   "metadata": {},
   "outputs": [],
   "source": [
    "db = pymolpro.database.load(\"GMTKN55_INV24\")"
   ]
  },
  {
   "cell_type": "code",
   "execution_count": 176,
   "id": "b6fbc172-6981-45dc-ba99-a7e34219ac7b",
   "metadata": {},
   "outputs": [
    {
     "name": "stdout",
     "output_type": "stream",
     "text": [
      "GMTKN55 INV24 (closed shell only) (maximum number of electrons 30):\n",
      "\n",
      "Molecules:\n",
      "H2O: {'geometry': '3\\n  \\n   O   -0.02085472758024      0.00000000000000     -0.01495598121153\\n   H   0.01876805202920      0.00000000000000      0.94578209125484\\n   H   0.89775667555104      0.00000000000000     -0.29748911004330\\n', 'description': 'H2O'}\n",
      "H2S: {'geometry': '3\\n  \\n   S   -0.20556127464025      0.00000000000000     -0.14507162979824\\n   H   -0.01007104299822      0.00000000000000      1.18200447183515\\n   H   1.11130231763847      0.00000000000000     -0.40359584203690\\n', 'description': 'H2S'}\n",
      "Ether_TS: {'geometry': '9\\n  \\n   O   -0.00020946572717      0.00033803651382      0.01009578182224\\n   C   1.37497499316945      0.00000551844024      0.01033708407522\\n   C   -1.37521529311648      0.00068147573508      0.00978328762624\\n   H   1.76662285429289      0.40690776018797     -0.93108108766811\\n   H   1.76646977000414      0.61379439668452      0.82991943080001\\n   H   1.77133317507623     -1.01663280776542      0.13037330987662\\n   H   -1.76877663711388     -1.01802185487210      0.12052409297504\\n   H   -1.76766318124667      0.60536823910385      0.83579583620894\\n   H   -1.76818302131116      0.41617320053097     -0.92733624303343\\n', 'description': 'Ether_TS'}\n",
      "Ether: {'geometry': '9\\n  \\n   C   -1.10945416545954     -0.08792101937951     -0.08400821928685\\n   O   0.07032183607769      0.60924567607926      0.24765640205154\\n   C   1.23884107792212     -0.13666128914199     -0.00597520869361\\n   H   -1.94856188018356      0.55983585212066      0.16218640095003\\n   H   -1.14825112584013     -0.33319268053463     -1.15420716209030\\n   H   -1.19840018577541     -1.02152922518843      0.48579228504927\\n   H   2.08610111441292      0.47954047509783      0.28875360385842\\n   H   1.33396905213006     -0.39116033625816     -1.07028076112373\\n   H   1.25443427671585     -1.06815745279504      0.57408265928525\\n', 'description': 'Ether'}\n",
      "H2O_TS: {'geometry': '3\\n  \\n   O   0.00000133070773      0.00005291002884     -0.00000001669992\\n   H   0.93566024418328      0.00005338458559      0.00000000834999\\n   H   -0.93566242742156      0.00005248979354      0.00000000834993\\n', 'description': 'H2O_TS'}\n",
      "H2S_TS: {'geometry': '3\\n  \\n   S   0.00001473056183      0.00000027536705      0.00000000000000\\n   H   1.31722300858301      0.00000454820039      0.00000000000000\\n   H   -1.31724922264958     -0.00000400609083      0.00000000000000\\n', 'description': 'H2S_TS'}\n",
      "\n",
      "Reactions:\n",
      "1: H2O -> H2O_TS, energy = 0.050517165648\n",
      "2: H2S -> H2S_TS, energy = 0.110436579792\n",
      "4: Ether -> Ether_TS, energy = 0.05896325328\n",
      "\n",
      "\n"
     ]
    }
   ],
   "source": [
    "small=db.subset(open_shell=False,max_electrons=30)\n",
    "print(small)"
   ]
  },
  {
   "cell_type": "code",
   "execution_count": null,
   "id": "817b50f1-088b-4076-aa73-2bdcc1263a65",
   "metadata": {},
   "outputs": [],
   "source": [
    "results = {}\n",
    "for method in methods:\n",
    "    results[method] = {}\n",
    "    for basis in bases:\n",
    "        results[method][basis] = pymolpro.database.run(small, methods[method], basis, location=project_name,\n",
    "                                                       backend=backend,\n",
    "                                                       preamble=\"core,small\", parallel=parallel)\n",
    "        if results[method][basis].failed: print(method, basis, 'failed', results[method][basis].project_directory)\n",
    "        \n",
    "print(results)       "
   ]
  },
  {
   "cell_type": "code",
   "execution_count": null,
   "id": "9bb8ab2a-a374-47fb-8d76-8c8401f6f0fe",
   "metadata": {},
   "outputs": [],
   "source": [
    "analyse=pymolpro.database.analyse([result['cc-pVTZ'] for result in results.values()],small)\n",
    "analyse['reaction statistics']"
   ]
  },
  {
   "cell_type": "code",
   "execution_count": null,
   "id": "df9921b9-dc91-4944-b4f7-ff66e02015b0",
   "metadata": {},
   "outputs": [],
   "source": [
    "extrapolate=pymolpro.database.basis_extrapolate(results[method].values(), results[\"HF\"].values())\n",
    "print(extrapolate)"
   ]
  },
  {
   "cell_type": "code",
   "execution_count": null,
   "id": "87ded188-0c5a-4fb0-9f54-7cb1f050f569",
   "metadata": {},
   "outputs": [],
   "source": [
    "print(extrapolate[0])"
   ]
  },
  {
   "cell_type": "code",
   "execution_count": null,
   "id": "ff56c2c2-22be-45b1-bbf2-6752818867f9",
   "metadata": {},
   "outputs": [],
   "source": [
    "import matplotlib.pyplot as plt\n",
    "\n",
    "methods_pruned = [method for method in methods if (method != 'HF') and (method != 'CCSD(T)')]\n",
    "bases_pruned = ['cc-pVTZ', 'cc-pVDZ']\n",
    "fig, panes = plt.subplots(nrows=1, ncols=len(bases_pruned), sharey=True, figsize=(18, 6))\n",
    "\n",
    "for pane in range(len(bases_pruned)):\n",
    "    data = []\n",
    "    for method in methods_pruned:\n",
    "        data.append(\n",
    "            pymolpro.database.analyse(results[method][bases_pruned[pane]],\n",
    "                                      results['CCSD(T)']['cc-pVTZ'],'kJ/mol')['reaction energy deviations'].to_numpy()[:, 0]\n",
    "        )\n",
    "    panes[pane].violinplot(data, showmeans=True, showextrema=True, vert=True, bw_method='silverman')\n",
    "    panes[pane].set_xticks(range(1, len(methods_pruned) + 1), labels=methods_pruned, rotation=-90)\n",
    "    panes[pane].set_title(bases_pruned[pane])\n",
    "panes[0].set_ylabel('Error / kJ/mol')\n",
    "plt.savefig(project_name + \".violin.pdf\")\n",
    "\n",
    "df = pd.DataFrame(data)\n",
    "df.to_excel(\"PAPT.xlsx\")\n"
   ]
  },
  {
   "cell_type": "code",
   "execution_count": 161,
   "id": "f9d007b3-c9f4-4e3e-baef-696c5f00a2bc",
   "metadata": {},
   "outputs": [
    {
     "name": "stdout",
     "output_type": "stream",
     "text": [
      "Database:\n",
      "\n",
      "Molecules:\n",
      "H2O: {'geometry': '3\\n  \\n   O   -0.02085472758024      0.00000000000000     -0.01495598121153\\n   H   0.01876805202920      0.00000000000000      0.94578209125484\\n   H   0.89775667555104      0.00000000000000     -0.29748911004330\\n', 'description': 'H2O'}, energy = -76.36634776415646\n",
      "H2S: {'geometry': '3\\n  \\n   S   -0.20556127464025      0.00000000000000     -0.14507162979824\\n   H   -0.01007104299822      0.00000000000000      1.18200447183515\\n   H   1.11130231763847      0.00000000000000     -0.40359584203690\\n', 'description': 'H2S'}, energy = -398.99337593548154\n",
      "Ether_TS: {'geometry': '9\\n  \\n   O   -0.00020946572717      0.00033803651382      0.01009578182224\\n   C   1.37497499316945      0.00000551844024      0.01033708407522\\n   C   -1.37521529311648      0.00068147573508      0.00978328762624\\n   H   1.76662285429289      0.40690776018797     -0.93108108766811\\n   H   1.76646977000414      0.61379439668452      0.82991943080001\\n   H   1.77133317507623     -1.01663280776542      0.13037330987662\\n   H   -1.76877663711388     -1.01802185487210      0.12052409297504\\n   H   -1.76766318124667      0.60536823910385      0.83579583620894\\n   H   -1.76818302131116      0.41617320053097     -0.92733624303343\\n', 'description': 'Ether_TS'}, energy = -154.80459038025987\n",
      "Ether: {'geometry': '9\\n  \\n   C   -1.10945416545954     -0.08792101937951     -0.08400821928685\\n   O   0.07032183607769      0.60924567607926      0.24765640205154\\n   C   1.23884107792212     -0.13666128914199     -0.00597520869361\\n   H   -1.94856188018356      0.55983585212066      0.16218640095003\\n   H   -1.14825112584013     -0.33319268053463     -1.15420716209030\\n   H   -1.19840018577541     -1.02152922518843      0.48579228504927\\n   H   2.08610111441292      0.47954047509783      0.28875360385842\\n   H   1.33396905213006     -0.39116033625816     -1.07028076112373\\n   H   1.25443427671585     -1.06815745279504      0.57408265928525\\n', 'description': 'Ether'}, energy = -154.86319108228554\n",
      "H2O_TS: {'geometry': '3\\n  \\n   O   0.00000133070773      0.00005291002884     -0.00000001669992\\n   H   0.93566024418328      0.00005338458559      0.00000000834999\\n   H   -0.93566242742156      0.00005248979354      0.00000000834993\\n', 'description': 'H2O_TS'}, energy = -76.31362346262259\n",
      "H2S_TS: {'geometry': '3\\n  \\n   S   0.00001473056183      0.00000027536705      0.00000000000000\\n   H   1.31722300858301      0.00000454820039      0.00000000000000\\n   H   -1.31724922264958     -0.00000400609083      0.00000000000000\\n', 'description': 'H2S_TS'}, energy = -398.88000956729053\n",
      "\n",
      "Reactions:\n",
      "1: H2O -> H2O_TS, energy = 0.0527243015338712\n",
      "2: H2S -> H2S_TS, energy = 0.11336636819103924\n",
      "4: Ether -> Ether_TS, energy = 0.05860070202565812\n",
      "\n",
      "Method:\n",
      "CCSD\n",
      "\n"
     ]
    }
   ],
   "source": [
    "print(extrapolate[0])"
   ]
  },
  {
   "cell_type": "code",
   "execution_count": 160,
   "id": "3626168a-16ad-412e-b5d6-530970bd4486",
   "metadata": {},
   "outputs": [
    {
     "data": {
      "text/plain": [
       "1"
      ]
     },
     "execution_count": 160,
     "metadata": {},
     "output_type": "execute_result"
    }
   ],
   "source": [
    "len(extrapolate)"
   ]
  },
  {
   "cell_type": "code",
   "execution_count": null,
   "id": "384a94ad-4462-42c5-8794-6165c7454157",
   "metadata": {},
   "outputs": [],
   "source": []
  }
 ],
 "metadata": {
  "kernelspec": {
   "display_name": "Python 3 (ipykernel)",
   "language": "python",
   "name": "python3"
  },
  "language_info": {
   "codemirror_mode": {
    "name": "ipython",
    "version": 3
   },
   "file_extension": ".py",
   "mimetype": "text/x-python",
   "name": "python",
   "nbconvert_exporter": "python",
   "pygments_lexer": "ipython3",
   "version": "3.10.6"
  }
 },
 "nbformat": 4,
 "nbformat_minor": 5
}
