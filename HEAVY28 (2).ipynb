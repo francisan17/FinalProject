{
 "cells": [
  {
   "cell_type": "code",
   "execution_count": 12,
   "id": "9ccb80e9-e19e-44c6-aa0b-a70a32c38156",
   "metadata": {},
   "outputs": [],
   "source": [
    "import pymolpro\n",
    "import pandas as pd\n"
   ]
  },
  {
   "cell_type": "code",
   "execution_count": 13,
   "id": "c2281a20-b900-4964-bb52-d328d378797b",
   "metadata": {},
   "outputs": [],
   "source": [
    "backend = 'local' \n",
    "project_name = 'HEAVY28_methodtest'\n",
    "parallel = 8"
   ]
  },
  {
   "cell_type": "code",
   "execution_count": 14,
   "id": "30498226-59eb-4577-9ff7-2da521cd1385",
   "metadata": {},
   "outputs": [],
   "source": [
    "methods = {\"HF\": \"HF;counterpoise\",\n",
    "\"MP2\": \"hf;MP2;counterpoise\",\n",
    "\"MP3\": \"hf;MP3;counterpoise\",\n",
    "\"MP4\": \"hf;MP4;counterpoise\",\n",
    "\"PAPT2\":\"hf;PAPT;MP2;counterpoise\",\n",
    "\"PAPT3\":\"hf;PAPT;MP3;counterpoise\",\n",
    "\"PAPT4\":\"hf;PAPT;MP4;counterpoise\",\n",
    "\"CCSD\":\"hf;CCSD;counterpoise\",\n",
    "\"CCSD(T)\":\"hf;CCSD(T);counterpoise\" }\n",
    "bases = ['aug-cc-pVTZ-pp','aug-cc-pVDZ-pp']"
   ]
  },
  {
   "cell_type": "code",
   "execution_count": 15,
   "id": "72a3df68-9aed-43f6-ba7e-5feb8a68e39c",
   "metadata": {},
   "outputs": [
    {
     "name": "stdout",
     "output_type": "stream",
     "text": [
      "GMTKN55 HEAVY28 (closed shell only) (maximum number of electrons 70):\n",
      "\n",
      "Molecules:\n",
      "h2o: {'geometry': '           3\\n  \\n    O          0.00000000      0.00000000      0.39219533\\n    H         -0.75610000      0.00000000     -0.19609767\\n    H          0.75610000      0.00000000     -0.19609767\\n', 'description': 'h2o'}\n",
      "teh2_nh3: {'geometry': '           7\\n  \\n    TE        -0.27801386     -1.82151771      0.00000000\\n    H          0.21816614     -3.38866571      0.00000000\\n    H          1.27654414     -1.33346771      0.00000000\\n    N         -0.27801386      1.35373929      0.00000000\\n    H          0.15335914      1.77217829      0.81226000\\n    H          0.15335914      1.77217829     -0.81226000\\n    H         -1.24540086      1.64555529      0.00000000\\n', 'description': 'teh2_nh3'}\n",
      "sbh3: {'geometry': '           4\\n  \\n    SB         0.00000000      0.00000000      0.70962975\\n    H         -0.69522101      1.20415811     -0.23654319\\n    H         -0.69522101     -1.20415811     -0.23654319\\n    H          1.39044201      0.00000000     -0.23654319\\n', 'description': 'sbh3'}\n",
      "sbh3_h2o: {'geometry': '           7\\n  \\n    SB         0.07940814     -1.16740071      0.00000000\\n    H          0.92542714     -1.96223271      1.21137400\\n    H          0.92542714     -1.96223271     -1.21137400\\n    H         -1.13926886     -2.32204371      0.00000000\\n    O          0.07940814      2.66198329      0.00000000\\n    H         -0.06916886      1.71249229      0.00000000\\n    H         -0.80123286      3.03943429      0.00000000\\n', 'description': 'sbh3_h2o'}\n",
      "teh2: {'geometry': '           3\\n  \\n    TE         0.00000000      0.00000000      0.76954933\\n    H         -1.15536600      0.00000000     -0.38477467\\n    H          1.15536600      0.00000000     -0.38477467\\n', 'description': 'teh2'}\n",
      "sbh3_nh3: {'geometry': '           8\\n  \\n    SB         0.36106250     -1.68885413      0.00000000\\n    H         -0.68440450     -1.17992612      1.21267800\\n    H         -0.34318450     -3.23078712      0.00000000\\n    H         -0.68440450     -1.17992612     -1.21267800\\n    N          0.36106250      1.53738488      0.00000000\\n    H         -0.13718250      1.87593687      0.81122600\\n    H          1.26423350      1.99023488      0.00000000\\n    H         -0.13718250      1.87593687     -0.81122600\\n', 'description': 'sbh3_nh3'}\n",
      "nh3: {'geometry': '           4\\n  \\n    N         -0.00000025      0.28324650      0.00000000\\n    H          0.93623275     -0.09441550      0.00000000\\n    H         -0.46811625     -0.09441550      0.81080100\\n    H         -0.46811625     -0.09441550     -0.81080100\\n', 'description': 'nh3'}\n",
      "teh2_h2o: {'geometry': '           6\\n  \\n    TE         0.00000000      0.00000000      1.62022367\\n    H         -1.14729200      0.00000000      2.78676467\\n    H          1.14729200      0.00000000      2.78676467\\n    O          0.00000000      0.00000000     -2.00527833\\n    H         -0.75610200      0.00000000     -2.59423733\\n    H          0.75610200      0.00000000     -2.59423733\\n', 'description': 'teh2_h2o'}\n",
      "\n",
      "Reactions:\n",
      "16: sbh3_h2o -> sbh3 + h2o, energy = 0.0025019542608000003\n",
      "21: sbh3_nh3 -> sbh3 + nh3, energy = 0.0045258280896\n",
      "23: teh2_h2o -> teh2 + h2o, energy = 0.0010836489792000002\n",
      "28: teh2_nh3 -> teh2 + nh3, energy = 0.005338564824\n",
      "\n",
      "\n"
     ]
    }
   ],
   "source": [
    "db = pymolpro.database.load(\"GMTKN55_HEAVY28\")\n",
    "small=db.subset(open_shell=False,max_electrons=70)\n",
    "print(small)"
   ]
  },
  {
   "cell_type": "code",
   "execution_count": 16,
   "id": "b1187ea2-8d36-482f-b3a6-909ecd7fa1e5",
   "metadata": {},
   "outputs": [
    {
     "name": "stdout",
     "output_type": "stream",
     "text": [
      "{'HF': {'aug-cc-pVTZ-pp': <pymolpro.database.Database object at 0x7f743074d810>, 'aug-cc-pVDZ-pp': <pymolpro.database.Database object at 0x7f74304d6020>}, 'MP2': {'aug-cc-pVTZ-pp': <pymolpro.database.Database object at 0x7f7430660850>, 'aug-cc-pVDZ-pp': <pymolpro.database.Database object at 0x7f74304d7af0>}, 'MP3': {'aug-cc-pVTZ-pp': <pymolpro.database.Database object at 0x7f74304d60e0>, 'aug-cc-pVDZ-pp': <pymolpro.database.Database object at 0x7f743066e440>}, 'MP4': {'aug-cc-pVTZ-pp': <pymolpro.database.Database object at 0x7f74304d6c50>, 'aug-cc-pVDZ-pp': <pymolpro.database.Database object at 0x7f74304d6680>}, 'PAPT2': {'aug-cc-pVTZ-pp': <pymolpro.database.Database object at 0x7f742fb7dd80>, 'aug-cc-pVDZ-pp': <pymolpro.database.Database object at 0x7f742fb7df00>}, 'PAPT3': {'aug-cc-pVTZ-pp': <pymolpro.database.Database object at 0x7f74ddbbb640>, 'aug-cc-pVDZ-pp': <pymolpro.database.Database object at 0x7f74305b2f20>}, 'PAPT4': {'aug-cc-pVTZ-pp': <pymolpro.database.Database object at 0x7f74dd70c370>, 'aug-cc-pVDZ-pp': <pymolpro.database.Database object at 0x7f74308995a0>}, 'CCSD': {'aug-cc-pVTZ-pp': <pymolpro.database.Database object at 0x7f74302cda20>, 'aug-cc-pVDZ-pp': <pymolpro.database.Database object at 0x7f7430783460>}, 'CCSD(T)': {'aug-cc-pVTZ-pp': <pymolpro.database.Database object at 0x7f7430782920>, 'aug-cc-pVDZ-pp': <pymolpro.database.Database object at 0x7f743074fc70>}}\n"
     ]
    }
   ],
   "source": [
    "results = {}\n",
    "for method in methods:\n",
    "    results[method] = {}\n",
    "    for basis in bases:\n",
    "        results[method][basis] = pymolpro.database.run(small, methods[method], basis, location=project_name,\n",
    "                                                       backend=backend,\n",
    "                                                       preamble=\"core,small\", parallel=parallel)\n",
    "        if results[method][basis].failed: print(method, basis, 'failed', results[method][basis].project_directory)\n",
    "        \n",
    "print(results)    "
   ]
  },
  {
   "cell_type": "code",
   "execution_count": 17,
   "id": "8ba40153-8895-4258-ba88-a248cf9c189c",
   "metadata": {},
   "outputs": [
    {
     "name": "stdout",
     "output_type": "stream",
     "text": [
      "HF\n",
      "{'aug-cc-pVTZ-pp': <pymolpro.database.Database object at 0x7f743074d810>, 'aug-cc-pVDZ-pp': <pymolpro.database.Database object at 0x7f74304d6020>}\n",
      "MP2\n",
      "{'aug-cc-pVTZ-pp': <pymolpro.database.Database object at 0x7f7430660850>, 'aug-cc-pVDZ-pp': <pymolpro.database.Database object at 0x7f74304d7af0>}\n",
      "MP3\n",
      "{'aug-cc-pVTZ-pp': <pymolpro.database.Database object at 0x7f74304d60e0>, 'aug-cc-pVDZ-pp': <pymolpro.database.Database object at 0x7f743066e440>}\n",
      "MP4\n",
      "{'aug-cc-pVTZ-pp': <pymolpro.database.Database object at 0x7f74304d6c50>, 'aug-cc-pVDZ-pp': <pymolpro.database.Database object at 0x7f74304d6680>}\n",
      "PAPT2\n",
      "{'aug-cc-pVTZ-pp': <pymolpro.database.Database object at 0x7f742fb7dd80>, 'aug-cc-pVDZ-pp': <pymolpro.database.Database object at 0x7f742fb7df00>}\n",
      "PAPT3\n",
      "{'aug-cc-pVTZ-pp': <pymolpro.database.Database object at 0x7f74ddbbb640>, 'aug-cc-pVDZ-pp': <pymolpro.database.Database object at 0x7f74305b2f20>}\n",
      "PAPT4\n",
      "{'aug-cc-pVTZ-pp': <pymolpro.database.Database object at 0x7f74dd70c370>, 'aug-cc-pVDZ-pp': <pymolpro.database.Database object at 0x7f74308995a0>}\n",
      "CCSD\n",
      "{'aug-cc-pVTZ-pp': <pymolpro.database.Database object at 0x7f74302cda20>, 'aug-cc-pVDZ-pp': <pymolpro.database.Database object at 0x7f7430783460>}\n",
      "CCSD(T)\n",
      "{'aug-cc-pVTZ-pp': <pymolpro.database.Database object at 0x7f7430782920>, 'aug-cc-pVDZ-pp': <pymolpro.database.Database object at 0x7f743074fc70>}\n",
      "{'HF': [<pymolpro.database.Database object at 0x7f7430658370>], 'MP2': [<pymolpro.database.Database object at 0x7f7430658160>], 'MP3': [<pymolpro.database.Database object at 0x7f74304d64a0>], 'MP4': [<pymolpro.database.Database object at 0x7f74304d7c70>], 'PAPT2': [<pymolpro.database.Database object at 0x7f74304d77c0>], 'PAPT3': [<pymolpro.database.Database object at 0x7f74304d6530>], 'PAPT4': [<pymolpro.database.Database object at 0x7f74304d6560>], 'CCSD': [<pymolpro.database.Database object at 0x7f74304d6440>], 'CCSD(T)': [<pymolpro.database.Database object at 0x7f74304d65c0>]}\n"
     ]
    }
   ],
   "source": [
    "extrapolate={}\n",
    "for method in  methods:\n",
    "    print(method)\n",
    "    print(results[method])\n",
    "    extrapolate[method]=pymolpro.database.basis_extrapolate(list(results[method].values()), list(results[\"HF\"].values()),x=[2,3])\n",
    "print(extrapolate)\n"
   ]
  },
  {
   "cell_type": "code",
   "execution_count": 24,
   "id": "4f33e8d0-165c-4660-9e4e-e800ef4129c6",
   "metadata": {},
   "outputs": [
    {
     "ename": "AttributeError",
     "evalue": "'list' object has no attribute 'reaction_energies'",
     "output_type": "error",
     "traceback": [
      "\u001b[0;31m---------------------------------------------------------------------------\u001b[0m",
      "\u001b[0;31mAttributeError\u001b[0m                            Traceback (most recent call last)",
      "Cell \u001b[0;32mIn [24], line 8\u001b[0m\n\u001b[1;32m      5\u001b[0m results \u001b[38;5;241m=\u001b[39m results_with_extrapolation\n\u001b[1;32m      7\u001b[0m pd\u001b[38;5;241m.\u001b[39moptions\u001b[38;5;241m.\u001b[39mdisplay\u001b[38;5;241m.\u001b[39mfloat_format \u001b[38;5;241m=\u001b[39m \u001b[38;5;124m'\u001b[39m\u001b[38;5;132;01m{:,.2f}\u001b[39;00m\u001b[38;5;124m'\u001b[39m\u001b[38;5;241m.\u001b[39mformat\n\u001b[0;32m----> 8\u001b[0m analyse\u001b[38;5;241m=\u001b[39m\u001b[43mpymolpro\u001b[49m\u001b[38;5;241;43m.\u001b[39;49m\u001b[43mdatabase\u001b[49m\u001b[38;5;241;43m.\u001b[39;49m\u001b[43manalyse\u001b[49m\u001b[43m(\u001b[49m\u001b[43m[\u001b[49m\u001b[43mresult\u001b[49m\u001b[43m[\u001b[49m\u001b[38;5;124;43m'\u001b[39;49m\u001b[38;5;124;43maug-cc-pV[23]Z\u001b[39;49m\u001b[38;5;124;43m'\u001b[39;49m\u001b[43m]\u001b[49m\u001b[43m \u001b[49m\u001b[38;5;28;43;01mfor\u001b[39;49;00m\u001b[43m \u001b[49m\u001b[43mresult\u001b[49m\u001b[43m \u001b[49m\u001b[38;5;129;43;01min\u001b[39;49;00m\u001b[43m \u001b[49m\u001b[43mresults\u001b[49m\u001b[38;5;241;43m.\u001b[39;49m\u001b[43mvalues\u001b[49m\u001b[43m(\u001b[49m\u001b[43m)\u001b[49m\u001b[43m]\u001b[49m\u001b[43m,\u001b[49m\u001b[43mresults\u001b[49m\u001b[43m[\u001b[49m\u001b[38;5;124;43m'\u001b[39;49m\u001b[38;5;124;43mCCSD(T)\u001b[39;49m\u001b[38;5;124;43m'\u001b[39;49m\u001b[43m]\u001b[49m\u001b[43m[\u001b[49m\u001b[38;5;124;43m'\u001b[39;49m\u001b[38;5;124;43maug-cc-pV[23]Z\u001b[39;49m\u001b[38;5;124;43m'\u001b[39;49m\u001b[43m]\u001b[49m\u001b[43m,\u001b[49m\u001b[43munit\u001b[49m\u001b[38;5;241;43m=\u001b[39;49m\u001b[38;5;124;43m'\u001b[39;49m\u001b[38;5;124;43mkJ/mol\u001b[39;49m\u001b[38;5;124;43m'\u001b[39;49m\u001b[43m)\u001b[49m\n\u001b[1;32m      9\u001b[0m analyse[\u001b[38;5;124m'\u001b[39m\u001b[38;5;124mreaction statistics\u001b[39m\u001b[38;5;124m'\u001b[39m]\n",
      "File \u001b[0;32m~/my-conda-envs/persistent/lib/python3.10/site-packages/pymolpro/database.py:521\u001b[0m, in \u001b[0;36manalyse\u001b[0;34m(databases, reference_database, unit)\u001b[0m\n\u001b[1;32m    519\u001b[0m results \u001b[38;5;241m=\u001b[39m []\n\u001b[1;32m    520\u001b[0m \u001b[38;5;28;01mfor\u001b[39;00m database \u001b[38;5;129;01min\u001b[39;00m databases_:\n\u001b[0;32m--> 521\u001b[0m     \u001b[38;5;28;01mif\u001b[39;00m \u001b[38;5;28mlen\u001b[39m(\u001b[38;5;28;43mgetattr\u001b[39;49m\u001b[43m(\u001b[49m\u001b[43mdatabase\u001b[49m\u001b[43m,\u001b[49m\u001b[43m \u001b[49m\u001b[43mtyp\u001b[49m\u001b[43m \u001b[49m\u001b[38;5;241;43m+\u001b[39;49m\u001b[43m \u001b[49m\u001b[38;5;124;43m'\u001b[39;49m\u001b[38;5;124;43m_energies\u001b[39;49m\u001b[38;5;124;43m'\u001b[39;49m\u001b[43m)\u001b[49m) \u001b[38;5;241m==\u001b[39m \u001b[38;5;241m0\u001b[39m: \u001b[38;5;28;01mcontinue\u001b[39;00m\n\u001b[1;32m    522\u001b[0m     results\u001b[38;5;241m.\u001b[39mappend({})\n\u001b[1;32m    523\u001b[0m     results[\u001b[38;5;241m-\u001b[39m\u001b[38;5;241m1\u001b[39m][\u001b[38;5;124m'\u001b[39m\u001b[38;5;124mmethod\u001b[39m\u001b[38;5;124m'\u001b[39m] \u001b[38;5;241m=\u001b[39m database\u001b[38;5;241m.\u001b[39mmethod\n",
      "\u001b[0;31mAttributeError\u001b[0m: 'list' object has no attribute 'reaction_energies'"
     ]
    }
   ],
   "source": [
    "results_with_extrapolation = results\n",
    "for method in results_with_extrapolation.keys():\n",
    "    results_with_extrapolation[method]['aug-cc-pV[23]Z'] = extrapolate[method]\n",
    "results_with_extrapolation\n",
    "results = results_with_extrapolation\n",
    "\n",
    "pd.options.display.float_format = '{:,.2f}'.format\n",
    "analyse=pymolpro.database.analyse([result['aug-cc-pV[23]Z'] for result in results.values()],results['CCSD(T)']['aug-cc-pV[23]Z'],unit='kJ/mol')\n",
    "analyse['reaction statistics']"
   ]
  },
  {
   "cell_type": "code",
   "execution_count": 19,
   "id": "1bf51ae5-055d-43c2-ad62-9d43bee94172",
   "metadata": {},
   "outputs": [
    {
     "data": {
      "text/plain": [
       "{'HF': {'aug-cc-pVTZ-pp': <pymolpro.database.Database at 0x7f743074d810>,\n",
       "  'aug-cc-pVDZ-pp': <pymolpro.database.Database at 0x7f74304d6020>,\n",
       "  'aug-cc-pV[23]Z': [<pymolpro.database.Database at 0x7f7430658370>]},\n",
       " 'MP2': {'aug-cc-pVTZ-pp': <pymolpro.database.Database at 0x7f7430660850>,\n",
       "  'aug-cc-pVDZ-pp': <pymolpro.database.Database at 0x7f74304d7af0>,\n",
       "  'aug-cc-pV[23]Z': [<pymolpro.database.Database at 0x7f7430658160>]},\n",
       " 'MP3': {'aug-cc-pVTZ-pp': <pymolpro.database.Database at 0x7f74304d60e0>,\n",
       "  'aug-cc-pVDZ-pp': <pymolpro.database.Database at 0x7f743066e440>,\n",
       "  'aug-cc-pV[23]Z': [<pymolpro.database.Database at 0x7f74304d64a0>]},\n",
       " 'MP4': {'aug-cc-pVTZ-pp': <pymolpro.database.Database at 0x7f74304d6c50>,\n",
       "  'aug-cc-pVDZ-pp': <pymolpro.database.Database at 0x7f74304d6680>,\n",
       "  'aug-cc-pV[23]Z': [<pymolpro.database.Database at 0x7f74304d7c70>]},\n",
       " 'PAPT2': {'aug-cc-pVTZ-pp': <pymolpro.database.Database at 0x7f742fb7dd80>,\n",
       "  'aug-cc-pVDZ-pp': <pymolpro.database.Database at 0x7f742fb7df00>,\n",
       "  'aug-cc-pV[23]Z': [<pymolpro.database.Database at 0x7f74304d77c0>]},\n",
       " 'PAPT3': {'aug-cc-pVTZ-pp': <pymolpro.database.Database at 0x7f74ddbbb640>,\n",
       "  'aug-cc-pVDZ-pp': <pymolpro.database.Database at 0x7f74305b2f20>,\n",
       "  'aug-cc-pV[23]Z': [<pymolpro.database.Database at 0x7f74304d6530>]},\n",
       " 'PAPT4': {'aug-cc-pVTZ-pp': <pymolpro.database.Database at 0x7f74dd70c370>,\n",
       "  'aug-cc-pVDZ-pp': <pymolpro.database.Database at 0x7f74308995a0>,\n",
       "  'aug-cc-pV[23]Z': [<pymolpro.database.Database at 0x7f74304d6560>]},\n",
       " 'CCSD': {'aug-cc-pVTZ-pp': <pymolpro.database.Database at 0x7f74302cda20>,\n",
       "  'aug-cc-pVDZ-pp': <pymolpro.database.Database at 0x7f7430783460>,\n",
       "  'aug-cc-pV[23]Z': [<pymolpro.database.Database at 0x7f74304d6440>]},\n",
       " 'CCSD(T)': {'aug-cc-pVTZ-pp': <pymolpro.database.Database at 0x7f7430782920>,\n",
       "  'aug-cc-pVDZ-pp': <pymolpro.database.Database at 0x7f743074fc70>,\n",
       "  'aug-cc-pV[23]Z': [<pymolpro.database.Database at 0x7f74304d65c0>]}}"
      ]
     },
     "execution_count": 19,
     "metadata": {},
     "output_type": "execute_result"
    }
   ],
   "source": [
    "results"
   ]
  },
  {
   "cell_type": "code",
   "execution_count": 20,
   "id": "2f76f3df-f492-4dfa-8808-06b7c1a286fb",
   "metadata": {},
   "outputs": [
    {
     "ename": "KeyError",
     "evalue": "'aug-cc-pV[23]Z-pp'",
     "output_type": "error",
     "traceback": [
      "\u001b[0;31m---------------------------------------------------------------------------\u001b[0m",
      "\u001b[0;31mKeyError\u001b[0m                                  Traceback (most recent call last)",
      "Cell \u001b[0;32mIn [20], line 12\u001b[0m\n\u001b[1;32m      9\u001b[0m data \u001b[38;5;241m=\u001b[39m []\n\u001b[1;32m     10\u001b[0m \u001b[38;5;28;01mfor\u001b[39;00m method \u001b[38;5;129;01min\u001b[39;00m methods_pruned:\n\u001b[1;32m     11\u001b[0m     data\u001b[38;5;241m.\u001b[39mappend(\n\u001b[0;32m---> 12\u001b[0m         pymolpro\u001b[38;5;241m.\u001b[39mdatabase\u001b[38;5;241m.\u001b[39manalyse(\u001b[43mresults\u001b[49m\u001b[43m[\u001b[49m\u001b[43mmethod\u001b[49m\u001b[43m]\u001b[49m\u001b[43m[\u001b[49m\u001b[43mbases_pruned\u001b[49m\u001b[43m[\u001b[49m\u001b[43mpane\u001b[49m\u001b[43m]\u001b[49m\u001b[43m]\u001b[49m,\n\u001b[1;32m     13\u001b[0m                                   results[\u001b[38;5;124m'\u001b[39m\u001b[38;5;124mCCSD(T)\u001b[39m\u001b[38;5;124m'\u001b[39m][\u001b[38;5;124m'\u001b[39m\u001b[38;5;124maug-cc-pVDZ-pp\u001b[39m\u001b[38;5;124m'\u001b[39m],\u001b[38;5;124m'\u001b[39m\u001b[38;5;124mkJ/mol\u001b[39m\u001b[38;5;124m'\u001b[39m)[\u001b[38;5;124m'\u001b[39m\u001b[38;5;124mreaction energy deviations\u001b[39m\u001b[38;5;124m'\u001b[39m]\u001b[38;5;241m.\u001b[39mto_numpy()[:, \u001b[38;5;241m0\u001b[39m]\n\u001b[1;32m     14\u001b[0m     )\n\u001b[1;32m     15\u001b[0m panes[pane]\u001b[38;5;241m.\u001b[39mviolinplot(data, showmeans\u001b[38;5;241m=\u001b[39m\u001b[38;5;28;01mTrue\u001b[39;00m, showextrema\u001b[38;5;241m=\u001b[39m\u001b[38;5;28;01mTrue\u001b[39;00m, vert\u001b[38;5;241m=\u001b[39m\u001b[38;5;28;01mTrue\u001b[39;00m, bw_method\u001b[38;5;241m=\u001b[39m\u001b[38;5;124m'\u001b[39m\u001b[38;5;124msilverman\u001b[39m\u001b[38;5;124m'\u001b[39m)\n\u001b[1;32m     16\u001b[0m panes[pane]\u001b[38;5;241m.\u001b[39mset_xticks(\u001b[38;5;28mrange\u001b[39m(\u001b[38;5;241m1\u001b[39m, \u001b[38;5;28mlen\u001b[39m(methods_pruned) \u001b[38;5;241m+\u001b[39m \u001b[38;5;241m1\u001b[39m), labels\u001b[38;5;241m=\u001b[39mmethods_pruned, rotation\u001b[38;5;241m=\u001b[39m\u001b[38;5;241m-\u001b[39m\u001b[38;5;241m90\u001b[39m)\n",
      "\u001b[0;31mKeyError\u001b[0m: 'aug-cc-pV[23]Z-pp'"
     ]
    },
    {
     "data": {
      "image/png": "[encoded data removed]",
      "text/plain": [
       "<Figure size 1800x600 with 2 Axes>"
      ]
     },
     "metadata": {},
     "output_type": "display_data"
    }
   ],
   "source": [
    "import matplotlib.pyplot as plt\n",
    "import pandas \n",
    "\n",
    "methods_pruned = [method for method in methods if (method != 'HF') and (method != 'CCSD(T)')]\n",
    "bases_pruned = ['aug-cc-pV[23]Z-pp','aug-cc-pVTZ-pp']\n",
    "fig, panes = plt.subplots(nrows=1, ncols=len(bases_pruned), sharey=True, figsize=(18, 6))\n",
    "\n",
    "for pane in range(len(bases_pruned)):\n",
    "    data = []\n",
    "    for method in methods_pruned:\n",
    "        data.append(\n",
    "            pymolpro.database.analyse(results[method][bases_pruned[pane]],\n",
    "                                      results['CCSD(T)']['aug-cc-pVDZ-pp'],'kJ/mol')['reaction energy deviations'].to_numpy()[:, 0]\n",
    "        )\n",
    "    panes[pane].violinplot(data, showmeans=True, showextrema=True, vert=True, bw_method='silverman')\n",
    "    panes[pane].set_xticks(range(1, len(methods_pruned) + 1), labels=methods_pruned, rotation=-90)\n",
    "    panes[pane].set_title(bases_pruned[pane])\n",
    "panes[0].set_ylabel('Error / kJ/mol')\n",
    "plt.savefig(project_name + \".violin.pdf\")\n"
   ]
  },
  {
   "cell_type": "code",
   "execution_count": null,
   "id": "48fa6aae-3fe8-46e1-838d-39d69dcdaabc",
   "metadata": {},
   "outputs": [],
   "source": []
  }
 ],
 "metadata": {
  "kernelspec": {
   "display_name": "Python [conda env:persistent] *",
   "language": "python",
   "name": "conda-env-persistent-py"
  },
  "language_info": {
   "codemirror_mode": {
    "name": "ipython",
    "version": 3
   },
   "file_extension": ".py",
   "mimetype": "text/x-python",
   "name": "python",
   "nbconvert_exporter": "python",
   "pygments_lexer": "ipython3",
   "version": "3.10.10"
  }
 },
 "nbformat": 4,
 "nbformat_minor": 5
}
