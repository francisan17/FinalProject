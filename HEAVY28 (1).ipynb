{
 "cells": [
  {
   "cell_type": "code",
   "execution_count": 58,
   "id": "9ccb80e9-e19e-44c6-aa0b-a70a32c38156",
   "metadata": {},
   "outputs": [],
   "source": [
    "import pymolpro\n",
    "import pandas as pd\n"
   ]
  },
  {
   "cell_type": "code",
   "execution_count": 59,
   "id": "c2281a20-b900-4964-bb52-d328d378797b",
   "metadata": {},
   "outputs": [],
   "source": [
    "backend = 'local' \n",
    "project_name = 'HEAVY28_methodtest'\n",
    "parallel = 8"
   ]
  },
  {
   "cell_type": "code",
   "execution_count": 60,
   "id": "30498226-59eb-4577-9ff7-2da521cd1385",
   "metadata": {},
   "outputs": [],
   "source": [
    "methods = {\"HF\": \"HF;counterpoise\",\n",
    "\"MP2\": \"hf;MP2;counterpoise\",\n",
    "\"MP3\": \"hf;MP3;counterpoise\",\n",
    "\"MP4\": \"hf;MP4;counterpoise\",\n",
    "\"PAPT2\":\"hf;PAPT;MP2;counterpoise\",\n",
    "\"PAPT3\":\"hf;PAPT;MP3;counterpoise\",\n",
    "\"PAPT4\":\"hf;PAPT;MP4;counterpoise\",\n",
    "\"CCSD\":\"hf;CCSD;counterpoise\",\n",
    "\"CCSD(T)\":\"hf;CCSD(T);counterpoise\" }\n",
    "bases = ['aug-cc-pVDZ-pp','aug-cc-pVDZ-pp']"
   ]
  },
  {
   "cell_type": "code",
   "execution_count": 61,
   "id": "72a3df68-9aed-43f6-ba7e-5feb8a68e39c",
   "metadata": {},
   "outputs": [
    {
     "name": "stdout",
     "output_type": "stream",
     "text": [
      "GMTKN55 HEAVY28 (closed shell only) (maximum number of electrons 70):\n",
      "\n",
      "Molecules:\n",
      "h2o: {'geometry': '           3\\n  \\n    O          0.00000000      0.00000000      0.39219533\\n    H         -0.75610000      0.00000000     -0.19609767\\n    H          0.75610000      0.00000000     -0.19609767\\n', 'description': 'h2o'}\n",
      "teh2_nh3: {'geometry': '           7\\n  \\n    TE        -0.27801386     -1.82151771      0.00000000\\n    H          0.21816614     -3.38866571      0.00000000\\n    H          1.27654414     -1.33346771      0.00000000\\n    N         -0.27801386      1.35373929      0.00000000\\n    H          0.15335914      1.77217829      0.81226000\\n    H          0.15335914      1.77217829     -0.81226000\\n    H         -1.24540086      1.64555529      0.00000000\\n', 'description': 'teh2_nh3'}\n",
      "sbh3: {'geometry': '           4\\n  \\n    SB         0.00000000      0.00000000      0.70962975\\n    H         -0.69522101      1.20415811     -0.23654319\\n    H         -0.69522101     -1.20415811     -0.23654319\\n    H          1.39044201      0.00000000     -0.23654319\\n', 'description': 'sbh3'}\n",
      "sbh3_h2o: {'geometry': '           7\\n  \\n    SB         0.07940814     -1.16740071      0.00000000\\n    H          0.92542714     -1.96223271      1.21137400\\n    H          0.92542714     -1.96223271     -1.21137400\\n    H         -1.13926886     -2.32204371      0.00000000\\n    O          0.07940814      2.66198329      0.00000000\\n    H         -0.06916886      1.71249229      0.00000000\\n    H         -0.80123286      3.03943429      0.00000000\\n', 'description': 'sbh3_h2o'}\n",
      "teh2: {'geometry': '           3\\n  \\n    TE         0.00000000      0.00000000      0.76954933\\n    H         -1.15536600      0.00000000     -0.38477467\\n    H          1.15536600      0.00000000     -0.38477467\\n', 'description': 'teh2'}\n",
      "sbh3_nh3: {'geometry': '           8\\n  \\n    SB         0.36106250     -1.68885413      0.00000000\\n    H         -0.68440450     -1.17992612      1.21267800\\n    H         -0.34318450     -3.23078712      0.00000000\\n    H         -0.68440450     -1.17992612     -1.21267800\\n    N          0.36106250      1.53738488      0.00000000\\n    H         -0.13718250      1.87593687      0.81122600\\n    H          1.26423350      1.99023488      0.00000000\\n    H         -0.13718250      1.87593687     -0.81122600\\n', 'description': 'sbh3_nh3'}\n",
      "nh3: {'geometry': '           4\\n  \\n    N         -0.00000025      0.28324650      0.00000000\\n    H          0.93623275     -0.09441550      0.00000000\\n    H         -0.46811625     -0.09441550      0.81080100\\n    H         -0.46811625     -0.09441550     -0.81080100\\n', 'description': 'nh3'}\n",
      "teh2_h2o: {'geometry': '           6\\n  \\n    TE         0.00000000      0.00000000      1.62022367\\n    H         -1.14729200      0.00000000      2.78676467\\n    H          1.14729200      0.00000000      2.78676467\\n    O          0.00000000      0.00000000     -2.00527833\\n    H         -0.75610200      0.00000000     -2.59423733\\n    H          0.75610200      0.00000000     -2.59423733\\n', 'description': 'teh2_h2o'}\n",
      "\n",
      "Reactions:\n",
      "16: sbh3_h2o -> sbh3 + h2o, energy = 0.0025019542608000003\n",
      "21: sbh3_nh3 -> sbh3 + nh3, energy = 0.0045258280896\n",
      "23: teh2_h2o -> teh2 + h2o, energy = 0.0010836489792000002\n",
      "28: teh2_nh3 -> teh2 + nh3, energy = 0.005338564824\n",
      "\n",
      "\n"
     ]
    }
   ],
   "source": [
    "db = pymolpro.database.load(\"GMTKN55_HEAVY28\")\n",
    "small=db.subset(open_shell=False,max_electrons=70)\n",
    "print(small)"
   ]
  },
  {
   "cell_type": "code",
   "execution_count": 62,
   "id": "b1187ea2-8d36-482f-b3a6-909ecd7fa1e5",
   "metadata": {},
   "outputs": [
    {
     "name": "stdout",
     "output_type": "stream",
     "text": [
      "{'HF': {'aug-cc-pVDZ-pp': <pymolpro.database.Database object at 0x7f077635b400>}, 'MP2': {'aug-cc-pVDZ-pp': <pymolpro.database.Database object at 0x7f07efa27e20>}, 'MP3': {'aug-cc-pVDZ-pp': <pymolpro.database.Database object at 0x7f077635ad70>}, 'MP4': {'aug-cc-pVDZ-pp': <pymolpro.database.Database object at 0x7f0776dc7970>}, 'PAPT2': {'aug-cc-pVDZ-pp': <pymolpro.database.Database object at 0x7f0776dc7a00>}, 'PAPT3': {'aug-cc-pVDZ-pp': <pymolpro.database.Database object at 0x7f0776dc64a0>}, 'PAPT4': {'aug-cc-pVDZ-pp': <pymolpro.database.Database object at 0x7f0776dc7070>}, 'CCSD': {'aug-cc-pVDZ-pp': <pymolpro.database.Database object at 0x7f085fe5af50>}, 'CCSD(T)': {'aug-cc-pVDZ-pp': <pymolpro.database.Database object at 0x7f07763516f0>}}\n"
     ]
    }
   ],
   "source": [
    "results = {}\n",
    "for method in methods:\n",
    "    results[method] = {}\n",
    "    for basis in bases:\n",
    "        results[method][basis] = pymolpro.database.run(small, methods[method], basis, location=project_name,\n",
    "                                                       backend=backend,\n",
    "                                                       preamble=\"core,small\", parallel=parallel)\n",
    "        if results[method][basis].failed: print(method, basis, 'failed', results[method][basis].project_directory)\n",
    "        \n",
    "print(results)    "
   ]
  },
  {
   "cell_type": "code",
   "execution_count": 63,
   "id": "2cc27890-5b33-4627-8c6f-b80eae1be616",
   "metadata": {},
   "outputs": [
    {
     "data": {
      "text/html": [
       "<div>\n",
       "<style scoped>\n",
       "    .dataframe tbody tr th:only-of-type {\n",
       "        vertical-align: middle;\n",
       "    }\n",
       "\n",
       "    .dataframe tbody tr th {\n",
       "        vertical-align: top;\n",
       "    }\n",
       "\n",
       "    .dataframe thead th {\n",
       "        text-align: right;\n",
       "    }\n",
       "</style>\n",
       "<table border=\"1\" class=\"dataframe\">\n",
       "  <thead>\n",
       "    <tr style=\"text-align: right;\">\n",
       "      <th></th>\n",
       "      <th>HF;COUNTERPOISE/aug-cc-pVDZ-pp</th>\n",
       "      <th>HF;MP2;COUNTERPOISE/aug-cc-pVDZ-pp</th>\n",
       "      <th>HF;MP3;COUNTERPOISE/aug-cc-pVDZ-pp</th>\n",
       "      <th>HF;MP4;COUNTERPOISE/aug-cc-pVDZ-pp</th>\n",
       "      <th>HF;PAPT;MP2;COUNTERPOISE/aug-cc-pVDZ-pp</th>\n",
       "      <th>HF;PAPT;MP3;COUNTERPOISE/aug-cc-pVDZ-pp</th>\n",
       "      <th>HF;PAPT;MP4;COUNTERPOISE/aug-cc-pVDZ-pp</th>\n",
       "      <th>HF;CCSD;COUNTERPOISE/aug-cc-pVDZ-pp</th>\n",
       "      <th>HF;CCSD(T);COUNTERPOISE/aug-cc-pVDZ-pp</th>\n",
       "    </tr>\n",
       "  </thead>\n",
       "  <tbody>\n",
       "    <tr>\n",
       "      <th>MAD</th>\n",
       "      <td>0.002716</td>\n",
       "      <td>0.000563</td>\n",
       "      <td>0.000916</td>\n",
       "      <td>0.000647</td>\n",
       "      <td>0.001101</td>\n",
       "      <td>0.001104</td>\n",
       "      <td>0.000684</td>\n",
       "      <td>0.001094</td>\n",
       "      <td>0.000750</td>\n",
       "    </tr>\n",
       "    <tr>\n",
       "      <th>MAXD</th>\n",
       "      <td>0.003403</td>\n",
       "      <td>0.000676</td>\n",
       "      <td>0.001169</td>\n",
       "      <td>0.000803</td>\n",
       "      <td>0.001429</td>\n",
       "      <td>0.001427</td>\n",
       "      <td>0.000839</td>\n",
       "      <td>0.001361</td>\n",
       "      <td>0.000913</td>\n",
       "    </tr>\n",
       "    <tr>\n",
       "      <th>RMSD</th>\n",
       "      <td>0.002778</td>\n",
       "      <td>0.000572</td>\n",
       "      <td>0.000943</td>\n",
       "      <td>0.000672</td>\n",
       "      <td>0.001144</td>\n",
       "      <td>0.001147</td>\n",
       "      <td>0.000714</td>\n",
       "      <td>0.001135</td>\n",
       "      <td>0.000777</td>\n",
       "    </tr>\n",
       "    <tr>\n",
       "      <th>MSD</th>\n",
       "      <td>-0.002716</td>\n",
       "      <td>-0.000563</td>\n",
       "      <td>-0.000916</td>\n",
       "      <td>-0.000647</td>\n",
       "      <td>-0.001101</td>\n",
       "      <td>-0.001104</td>\n",
       "      <td>-0.000684</td>\n",
       "      <td>-0.001094</td>\n",
       "      <td>-0.000750</td>\n",
       "    </tr>\n",
       "    <tr>\n",
       "      <th>STDEVD</th>\n",
       "      <td>0.000676</td>\n",
       "      <td>0.000114</td>\n",
       "      <td>0.000262</td>\n",
       "      <td>0.000209</td>\n",
       "      <td>0.000359</td>\n",
       "      <td>0.000358</td>\n",
       "      <td>0.000236</td>\n",
       "      <td>0.000346</td>\n",
       "      <td>0.000237</td>\n",
       "    </tr>\n",
       "  </tbody>\n",
       "</table>\n",
       "</div>"
      ],
      "text/plain": [
       "        HF;COUNTERPOISE/aug-cc-pVDZ-pp  HF;MP2;COUNTERPOISE/aug-cc-pVDZ-pp   \n",
       "MAD                           0.002716                            0.000563  \\\n",
       "MAXD                          0.003403                            0.000676   \n",
       "RMSD                          0.002778                            0.000572   \n",
       "MSD                          -0.002716                           -0.000563   \n",
       "STDEVD                        0.000676                            0.000114   \n",
       "\n",
       "        HF;MP3;COUNTERPOISE/aug-cc-pVDZ-pp   \n",
       "MAD                               0.000916  \\\n",
       "MAXD                              0.001169   \n",
       "RMSD                              0.000943   \n",
       "MSD                              -0.000916   \n",
       "STDEVD                            0.000262   \n",
       "\n",
       "        HF;MP4;COUNTERPOISE/aug-cc-pVDZ-pp   \n",
       "MAD                               0.000647  \\\n",
       "MAXD                              0.000803   \n",
       "RMSD                              0.000672   \n",
       "MSD                              -0.000647   \n",
       "STDEVD                            0.000209   \n",
       "\n",
       "        HF;PAPT;MP2;COUNTERPOISE/aug-cc-pVDZ-pp   \n",
       "MAD                                    0.001101  \\\n",
       "MAXD                                   0.001429   \n",
       "RMSD                                   0.001144   \n",
       "MSD                                   -0.001101   \n",
       "STDEVD                                 0.000359   \n",
       "\n",
       "        HF;PAPT;MP3;COUNTERPOISE/aug-cc-pVDZ-pp   \n",
       "MAD                                    0.001104  \\\n",
       "MAXD                                   0.001427   \n",
       "RMSD                                   0.001147   \n",
       "MSD                                   -0.001104   \n",
       "STDEVD                                 0.000358   \n",
       "\n",
       "        HF;PAPT;MP4;COUNTERPOISE/aug-cc-pVDZ-pp   \n",
       "MAD                                    0.000684  \\\n",
       "MAXD                                   0.000839   \n",
       "RMSD                                   0.000714   \n",
       "MSD                                   -0.000684   \n",
       "STDEVD                                 0.000236   \n",
       "\n",
       "        HF;CCSD;COUNTERPOISE/aug-cc-pVDZ-pp   \n",
       "MAD                                0.001094  \\\n",
       "MAXD                               0.001361   \n",
       "RMSD                               0.001135   \n",
       "MSD                               -0.001094   \n",
       "STDEVD                             0.000346   \n",
       "\n",
       "        HF;CCSD(T);COUNTERPOISE/aug-cc-pVDZ-pp  \n",
       "MAD                                   0.000750  \n",
       "MAXD                                  0.000913  \n",
       "RMSD                                  0.000777  \n",
       "MSD                                  -0.000750  \n",
       "STDEVD                                0.000237  "
      ]
     },
     "execution_count": 63,
     "metadata": {},
     "output_type": "execute_result"
    }
   ],
   "source": [
    "analyse=pymolpro.database.analyse([result['aug-cc-pVDZ-pp'] for result in results.values()],small)\n",
    "analyse['reaction statistics']"
   ]
  },
  {
   "cell_type": "code",
   "execution_count": 64,
   "id": "2f76f3df-f492-4dfa-8808-06b7c1a286fb",
   "metadata": {},
   "outputs": [
    {
     "data": {
      "image/png": "[encoded data removed]",
      "text/plain": [
       "<Figure size 1800x600 with 2 Axes>"
      ]
     },
     "metadata": {},
     "output_type": "display_data"
    }
   ],
   "source": [
    "import matplotlib.pyplot as plt\n",
    "import pandas \n",
    "\n",
    "methods_pruned = [method for method in methods if (method != 'HF') and (method != 'CCSD(T)')]\n",
    "bases_pruned = ['aug-cc-pVDZ-pp','aug-cc-pVDZ-pp']\n",
    "fig, panes = plt.subplots(nrows=1, ncols=len(bases_pruned), sharey=True, figsize=(18, 6))\n",
    "\n",
    "for pane in range(len(bases_pruned)):\n",
    "    data = []\n",
    "    for method in methods_pruned:\n",
    "        data.append(\n",
    "            pymolpro.database.analyse(results[method][bases_pruned[pane]],\n",
    "                                      results['CCSD(T)']['aug-cc-pVDZ-pp'],'kJ/mol')['reaction energy deviations'].to_numpy()[:, 0]\n",
    "        )\n",
    "    panes[pane].violinplot(data, showmeans=True, showextrema=True, vert=True, bw_method='silverman')\n",
    "    panes[pane].set_xticks(range(1, len(methods_pruned) + 1), labels=methods_pruned, rotation=-90)\n",
    "    panes[pane].set_title(bases_pruned[pane])\n",
    "panes[0].set_ylabel('Error / kJ/mol')\n",
    "plt.savefig(project_name + \".violin.pdf\")\n",
    "\n",
    "df = pd.DataFrame(data)\n",
    "df.to_excel(\"PAPT.xlsx\")"
   ]
  },
  {
   "cell_type": "code",
   "execution_count": null,
   "id": "608037de-a623-41f9-98dd-1a5fb001aac6",
   "metadata": {},
   "outputs": [],
   "source": [
    "extrapolate=pymolpro.database.basis_extrapolate(results[method].values(), results[\"HF\"].values())\n",
    "extrapolate"
   ]
  }
 ],
 "metadata": {
  "kernelspec": {
   "display_name": "Python [conda env:persistent] *",
   "language": "python",
   "name": "conda-env-persistent-py"
  },
  "language_info": {
   "codemirror_mode": {
    "name": "ipython",
    "version": 3
   },
   "file_extension": ".py",
   "mimetype": "text/x-python",
   "name": "python",
   "nbconvert_exporter": "python",
   "pygments_lexer": "ipython3",
   "version": "3.10.10"
  }
 },
 "nbformat": 4,
 "nbformat_minor": 5
}
